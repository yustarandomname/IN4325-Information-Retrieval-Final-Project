{
 "cells": [
  {
   "cell_type": "markdown",
   "metadata": {},
   "source": [
    "# Final Project\n",
    "\n",
    "Libraries used:\n"
   ]
  },
  {
   "cell_type": "code",
   "execution_count": 21,
   "metadata": {},
   "outputs": [
    {
     "name": "stdout",
     "output_type": "stream",
     "text": [
      "Requirement already satisfied: numpy in ./.venv/lib/python3.10/site-packages (1.26.4)\n",
      "Requirement already satisfied: deep-translator in ./.venv/lib/python3.10/site-packages (1.11.4)\n",
      "Requirement already satisfied: python-dotenv in ./.venv/lib/python3.10/site-packages (1.0.1)\n",
      "Requirement already satisfied: python-terrier==0.10.0 in ./.venv/lib/python3.10/site-packages (0.10.0)\n",
      "Requirement already satisfied: pandas in ./.venv/lib/python3.10/site-packages (from python-terrier==0.10.0) (2.2.1)\n",
      "Requirement already satisfied: wget in ./.venv/lib/python3.10/site-packages (from python-terrier==0.10.0) (3.2)\n",
      "Requirement already satisfied: tqdm in ./.venv/lib/python3.10/site-packages (from python-terrier==0.10.0) (4.66.2)\n",
      "Requirement already satisfied: pyjnius>=1.4.2 in ./.venv/lib/python3.10/site-packages (from python-terrier==0.10.0) (1.6.1)\n",
      "Requirement already satisfied: matchpy in ./.venv/lib/python3.10/site-packages (from python-terrier==0.10.0) (0.5.5)\n",
      "Requirement already satisfied: scikit-learn in ./.venv/lib/python3.10/site-packages (from python-terrier==0.10.0) (1.4.1.post1)\n",
      "Requirement already satisfied: deprecated in ./.venv/lib/python3.10/site-packages (from python-terrier==0.10.0) (1.2.14)\n",
      "Requirement already satisfied: chest in ./.venv/lib/python3.10/site-packages (from python-terrier==0.10.0) (0.2.3)\n",
      "Requirement already satisfied: scipy in ./.venv/lib/python3.10/site-packages (from python-terrier==0.10.0) (1.12.0)\n",
      "Requirement already satisfied: requests in ./.venv/lib/python3.10/site-packages (from python-terrier==0.10.0) (2.31.0)\n",
      "Requirement already satisfied: joblib in ./.venv/lib/python3.10/site-packages (from python-terrier==0.10.0) (1.3.2)\n",
      "Requirement already satisfied: nptyping==1.4.4 in ./.venv/lib/python3.10/site-packages (from python-terrier==0.10.0) (1.4.4)\n",
      "Requirement already satisfied: more-itertools in ./.venv/lib/python3.10/site-packages (from python-terrier==0.10.0) (10.2.0)\n",
      "Requirement already satisfied: ir-datasets>=0.3.2 in ./.venv/lib/python3.10/site-packages (from python-terrier==0.10.0) (0.5.6)\n",
      "Requirement already satisfied: jinja2 in ./.venv/lib/python3.10/site-packages (from python-terrier==0.10.0) (3.1.3)\n",
      "Requirement already satisfied: statsmodels in ./.venv/lib/python3.10/site-packages (from python-terrier==0.10.0) (0.14.1)\n",
      "Requirement already satisfied: ir-measures>=0.3.1 in ./.venv/lib/python3.10/site-packages (from python-terrier==0.10.0) (0.3.3)\n",
      "Requirement already satisfied: dill in ./.venv/lib/python3.10/site-packages (from python-terrier==0.10.0) (0.3.8)\n",
      "Requirement already satisfied: pytrec-eval-terrier>=0.5.3 in ./.venv/lib/python3.10/site-packages (from python-terrier==0.10.0) (0.5.6)\n",
      "Requirement already satisfied: typish>=1.7.0 in ./.venv/lib/python3.10/site-packages (from nptyping==1.4.4->python-terrier==0.10.0) (1.9.3)\n",
      "Requirement already satisfied: beautifulsoup4<5.0.0,>=4.9.1 in ./.venv/lib/python3.10/site-packages (from deep-translator) (4.12.3)\n",
      "Requirement already satisfied: soupsieve>1.2 in ./.venv/lib/python3.10/site-packages (from beautifulsoup4<5.0.0,>=4.9.1->deep-translator) (2.5)\n",
      "Requirement already satisfied: inscriptis>=2.2.0 in ./.venv/lib/python3.10/site-packages (from ir-datasets>=0.3.2->python-terrier==0.10.0) (2.5.0)\n",
      "Requirement already satisfied: lxml>=4.5.2 in ./.venv/lib/python3.10/site-packages (from ir-datasets>=0.3.2->python-terrier==0.10.0) (5.1.1)\n",
      "Requirement already satisfied: pyyaml>=5.3.1 in ./.venv/lib/python3.10/site-packages (from ir-datasets>=0.3.2->python-terrier==0.10.0) (6.0.1)\n",
      "Requirement already satisfied: trec-car-tools>=2.5.4 in ./.venv/lib/python3.10/site-packages (from ir-datasets>=0.3.2->python-terrier==0.10.0) (2.6)\n",
      "Requirement already satisfied: lz4>=3.1.10 in ./.venv/lib/python3.10/site-packages (from ir-datasets>=0.3.2->python-terrier==0.10.0) (4.3.3)\n",
      "Requirement already satisfied: warc3-wet>=0.2.3 in ./.venv/lib/python3.10/site-packages (from ir-datasets>=0.3.2->python-terrier==0.10.0) (0.2.3)\n",
      "Requirement already satisfied: warc3-wet-clueweb09>=0.2.5 in ./.venv/lib/python3.10/site-packages (from ir-datasets>=0.3.2->python-terrier==0.10.0) (0.2.5)\n",
      "Requirement already satisfied: zlib-state>=0.1.3 in ./.venv/lib/python3.10/site-packages (from ir-datasets>=0.3.2->python-terrier==0.10.0) (0.1.6)\n",
      "Requirement already satisfied: ijson>=3.1.3 in ./.venv/lib/python3.10/site-packages (from ir-datasets>=0.3.2->python-terrier==0.10.0) (3.2.3)\n",
      "Requirement already satisfied: pyautocorpus>=0.1.1 in ./.venv/lib/python3.10/site-packages (from ir-datasets>=0.3.2->python-terrier==0.10.0) (0.1.12)\n",
      "Requirement already satisfied: unlzw3>=0.2.1 in ./.venv/lib/python3.10/site-packages (from ir-datasets>=0.3.2->python-terrier==0.10.0) (0.2.2)\n",
      "Requirement already satisfied: cwl-eval>=1.0.10 in ./.venv/lib/python3.10/site-packages (from ir-measures>=0.3.1->python-terrier==0.10.0) (1.0.12)\n",
      "Requirement already satisfied: charset-normalizer<4,>=2 in ./.venv/lib/python3.10/site-packages (from requests->python-terrier==0.10.0) (3.3.2)\n",
      "Requirement already satisfied: idna<4,>=2.5 in ./.venv/lib/python3.10/site-packages (from requests->python-terrier==0.10.0) (3.6)\n",
      "Requirement already satisfied: urllib3<3,>=1.21.1 in ./.venv/lib/python3.10/site-packages (from requests->python-terrier==0.10.0) (2.2.1)\n",
      "Requirement already satisfied: certifi>=2017.4.17 in ./.venv/lib/python3.10/site-packages (from requests->python-terrier==0.10.0) (2024.2.2)\n",
      "Requirement already satisfied: heapdict in ./.venv/lib/python3.10/site-packages (from chest->python-terrier==0.10.0) (1.0.1)\n",
      "Requirement already satisfied: wrapt<2,>=1.10 in ./.venv/lib/python3.10/site-packages (from deprecated->python-terrier==0.10.0) (1.16.0)\n",
      "Requirement already satisfied: MarkupSafe>=2.0 in ./.venv/lib/python3.10/site-packages (from jinja2->python-terrier==0.10.0) (2.1.5)\n",
      "Requirement already satisfied: multiset<3.0,>=2.0 in ./.venv/lib/python3.10/site-packages (from matchpy->python-terrier==0.10.0) (2.1.1)\n",
      "Requirement already satisfied: python-dateutil>=2.8.2 in ./.venv/lib/python3.10/site-packages (from pandas->python-terrier==0.10.0) (2.9.0.post0)\n",
      "Requirement already satisfied: pytz>=2020.1 in ./.venv/lib/python3.10/site-packages (from pandas->python-terrier==0.10.0) (2024.1)\n",
      "Requirement already satisfied: tzdata>=2022.7 in ./.venv/lib/python3.10/site-packages (from pandas->python-terrier==0.10.0) (2024.1)\n",
      "Requirement already satisfied: threadpoolctl>=2.0.0 in ./.venv/lib/python3.10/site-packages (from scikit-learn->python-terrier==0.10.0) (3.4.0)\n",
      "Requirement already satisfied: patsy>=0.5.4 in ./.venv/lib/python3.10/site-packages (from statsmodels->python-terrier==0.10.0) (0.5.6)\n",
      "Requirement already satisfied: packaging>=21.3 in ./.venv/lib/python3.10/site-packages (from statsmodels->python-terrier==0.10.0) (24.0)\n",
      "Requirement already satisfied: six in ./.venv/lib/python3.10/site-packages (from patsy>=0.5.4->statsmodels->python-terrier==0.10.0) (1.16.0)\n",
      "Requirement already satisfied: cbor>=1.0.0 in ./.venv/lib/python3.10/site-packages (from trec-car-tools>=2.5.4->ir-datasets>=0.3.2->python-terrier==0.10.0) (1.0.0)\n"
     ]
    }
   ],
   "source": [
    "! pip install numpy deep-translator python-dotenv python-terrier==0.10.0"
   ]
  },
  {
   "cell_type": "code",
   "execution_count": 22,
   "metadata": {},
   "outputs": [
    {
     "name": "stdout",
     "output_type": "stream",
     "text": [
      "The dotenv extension is already loaded. To reload it, use:\n",
      "  %reload_ext dotenv\n"
     ]
    }
   ],
   "source": [
    "from dotenv import dotenv_values\n",
    "%load_ext dotenv\n",
    "%dotenv\n",
    "\n",
    "env = dotenv_values(\".env\")  # replace \".env.example\" with .env file path\n",
    "\n",
    "if (env[\"LANGUAGE_DETECT_API_KEY\"] == \"YOUR API KEY\"):\n",
    "  raise Exception(\"Please replace 'YOUR API KEY' with your actual API key in the .env file\")\n",
    "\n",
    "detection_api_key = env[\"LANGUAGE_DETECT_API_KEY\"]"
   ]
  },
  {
   "cell_type": "code",
   "execution_count": 23,
   "metadata": {},
   "outputs": [],
   "source": [
    "import os\n",
    "import re\n",
    "import threading\n",
    "\n",
    "import deep_translator as dt\n",
    "import numpy as np\n",
    "import pandas as pd\n",
    "import pyterrier as pt\n",
    "from deep_translator import GoogleTranslator, single_detection"
   ]
  },
  {
   "cell_type": "code",
   "execution_count": 24,
   "metadata": {},
   "outputs": [
    {
     "name": "stdout",
     "output_type": "stream",
     "text": [
      "numpy version: 1.26.4\n",
      "deep-translator version: 1.9.1\n",
      "pyterrier version: 0.10.0\n"
     ]
    }
   ],
   "source": [
    "print(\"numpy version:\", np.__version__)\n",
    "print(\"deep-translator version:\", dt.__version__)\n",
    "print(\"pyterrier version:\", pt.__version__)"
   ]
  },
  {
   "cell_type": "code",
   "execution_count": 25,
   "metadata": {},
   "outputs": [],
   "source": [
    "if not pt.started():\n",
    "    pt.init()"
   ]
  },
  {
   "cell_type": "markdown",
   "metadata": {},
   "source": [
    "## 0. Query formulation\n",
    "\n",
    "Let the end-user determine what they would like to find\n"
   ]
  },
  {
   "cell_type": "code",
   "execution_count": 26,
   "metadata": {},
   "outputs": [],
   "source": [
    "q0 = \"How do I repair my bike?\""
   ]
  },
  {
   "cell_type": "markdown",
   "metadata": {},
   "source": [
    "## 1. Query language identification\n",
    "\n",
    "Identify the language of the query with the help of the ... library\n"
   ]
  },
  {
   "cell_type": "code",
   "execution_count": 27,
   "metadata": {},
   "outputs": [
    {
     "name": "stdout",
     "output_type": "stream",
     "text": [
      "en\n"
     ]
    }
   ],
   "source": [
    "l0 = single_detection(q0, api_key=detection_api_key)\n",
    "print(l0)"
   ]
  },
  {
   "cell_type": "markdown",
   "metadata": {},
   "source": [
    "## 2. Query translation\n",
    "\n",
    "Translate the query into Dutch, English, French, German, Italian, Portuguese, Russian, Spanish, and Chineese. Exlude the original language of the query from the translation set.\n"
   ]
  },
  {
   "cell_type": "code",
   "execution_count": 28,
   "metadata": {},
   "outputs": [
    {
     "name": "stdout",
     "output_type": "stream",
     "text": [
      "{'en': 'How do I repair my bike?', 'fr': 'Comment réparer mon vélo ?', 'it': 'Come riparo la mia bicicletta?', 'es': '¿Cómo reparo mi bicicleta?'}\n"
     ]
    }
   ],
   "source": [
    "qs = dict({l0: q0})\n",
    "\n",
    "languages = [\"en\", \"fr\", \"it\", \"es\"]\n",
    "\n",
    "for lang in languages:\n",
    "    if lang != l0:\n",
    "        qs[lang] = translated = GoogleTranslator(source=l0, target=lang).translate(\n",
    "            text=q0\n",
    "        )\n",
    "\n",
    "print(qs)"
   ]
  },
  {
   "cell_type": "markdown",
   "metadata": {},
   "source": [
    "## 3. Search for documents in the target language\n",
    "\n",
    "Search for documents in the target language using the translated queries\n"
   ]
  },
  {
   "cell_type": "markdown",
   "metadata": {},
   "source": [
    "References:\n",
    "1. MLWIKIR: APython toolkit for building large-scale Wikipedia-based Information Retrieval Datasets in Chinese, English, French, Italian, Japanese, Spanish and more. [Research paper](https://www.irit.fr/CIRCLE/wp-content/uploads/2020/06/CIRCLE20_22.pdf)\n",
    "1. [pyterrier jupyter notebook example of spanish document retreival](https://github.com/terrier-org/pyterrier/blob/master/examples/notebooks/non_en_retrieval.ipynb)\n",
    "1. [WikIR rawa datasets](https://ir-datasets.com/wikir.html)"
   ]
  },
  {
   "cell_type": "markdown",
   "metadata": {},
   "source": [
    "### 3.1 Indexing of the documents\n",
    "If the index of the documents is not available, then the documents will be indexed using the pyterrier library.\n",
    "Otherwise, the index will be loaded from the disk."
   ]
  },
  {
   "cell_type": "code",
   "execution_count": 29,
   "metadata": {},
   "outputs": [],
   "source": [
    "def create_index(dataset: str, index_name: str, fields=[\"text\"]): \n",
    "    \"\"\"\n",
    "    Creates an index for a given dataset using the specified index name and fields.\n",
    "\n",
    "    Parameters:\n",
    "    - dataset: The dataset object containing the corpus to be indexed.\n",
    "    - index_name: The name of the index to be created.\n",
    "    - fields: A list of fields to be indexed. Default is [\"text\"].\n",
    "\n",
    "    Returns:\n",
    "    - index_ref: The reference to the created index.\n",
    "\n",
    "    \"\"\"\n",
    "    indexer = pt.IterDictIndexer(\"./indices/\" + index_name, verbose=False)\n",
    "    index_ref = indexer.index(dataset.get_corpus_iter(), fields=fields)\n",
    "    return index_ref\n",
    "\n",
    "\n",
    "def find_index(index_name: str):\n",
    "    \"\"\"\n",
    "    Finds the reference to an existing index with the specified name.\n",
    "\n",
    "    Parameters:\n",
    "    - index_name: The name of the index to be found.\n",
    "\n",
    "    Returns:\n",
    "    - index_ref: The reference to the found index.\n",
    "\n",
    "    \"\"\"\n",
    "    return pt.IndexRef.of(\"./indices/\" + index_name)"
   ]
  },
  {
   "cell_type": "code",
   "execution_count": 30,
   "metadata": {},
   "outputs": [
    {
     "name": "stdout",
     "output_type": "stream",
     "text": [
      "Index wikir_fr14k already exists\n",
      "Index wikir_es13k already exists\n",
      "Index wikir_en1k already exists\n",
      "Index wikir_it16k already exists\n",
      "{'fr': <org.terrier.querying.IndexRef at 0x14e303380 jclass=org/terrier/querying/IndexRef jself=<LocalRef obj=0x7fbf9addfdb0 at 0x14e188f50>>, 'es': <org.terrier.querying.IndexRef at 0x14dbe0a90 jclass=org/terrier/querying/IndexRef jself=<LocalRef obj=0x7fbf9addfdd0 at 0x14e188210>>, 'en': <org.terrier.querying.IndexRef at 0x14dbe0860 jclass=org/terrier/querying/IndexRef jself=<LocalRef obj=0x7fbf9addfdd8 at 0x14e188bb0>>, 'it': <org.terrier.querying.IndexRef at 0x14e2f1760 jclass=org/terrier/querying/IndexRef jself=<LocalRef obj=0x7fbf9addfde0 at 0x14e188e90>>}\n"
     ]
    }
   ],
   "source": [
    "datasetNames: dict[str, str] = dict({\"fr\":\"wikir/fr14k\", \"es\": \"wikir/es13k\", \"en\":\"wikir/en1k\", \"it\":\"wikir/it16k\"})\n",
    "datasets = dict()\n",
    "indices = dict()\n",
    "\n",
    "def index(dataset: str, index_name: str, fields=[\"text\"]):\n",
    "    index_ref = create_index(dataset, index_name, fields)\n",
    "    indices[lang] = index_ref\n",
    "\n",
    "index_threads = []\n",
    "\n",
    "for [lang, datasetName] in datasetNames.items():\n",
    "    datasetFolder = datasetName.replace(\"/\", \"_\")\n",
    "    dataset = pt.get_dataset(\"irds:\"+datasetName)\n",
    "    datasets[lang] = dataset\n",
    "\n",
    "    if os.path.exists(\"./indices/\" + datasetFolder + \"/data.properties\"):\n",
    "        print(\"Index\", datasetFolder, \"already exists\")\n",
    "        index_ref = find_index(datasetFolder)\n",
    "        indices[lang] = index_ref\n",
    "    else:\n",
    "        print(\"Creating index\", datasetFolder, \" (takes around 1-3 minutes per dataset)\")\n",
    "        thread = threading.Thread(target=index, args=(dataset, datasetFolder))\n",
    "        thread.start()\n",
    "        index_threads.append(thread)\n",
    "\n",
    "for thread in index_threads:\n",
    "    thread.join()\n",
    "\n",
    "print(indices)"
   ]
  },
  {
   "cell_type": "markdown",
   "metadata": {},
   "source": [
    "### 3.2 Retrieval of the documents\n",
    "The documents will be retrieved using the BM25 retrieval model."
   ]
  },
  {
   "cell_type": "code",
   "execution_count": 31,
   "metadata": {},
   "outputs": [
    {
     "name": "stdout",
     "output_type": "stream",
     "text": [
      "Results for fr Index(['qid', 'docid', 'docno', 'rank', 'score', 'query', 'text'], dtype='object') - shape: (5, 7) top 5:\n"
     ]
    },
    {
     "data": {
      "text/html": [
       "<div>\n",
       "<style scoped>\n",
       "    .dataframe tbody tr th:only-of-type {\n",
       "        vertical-align: middle;\n",
       "    }\n",
       "\n",
       "    .dataframe tbody tr th {\n",
       "        vertical-align: top;\n",
       "    }\n",
       "\n",
       "    .dataframe thead th {\n",
       "        text-align: right;\n",
       "    }\n",
       "</style>\n",
       "<table border=\"1\" class=\"dataframe\">\n",
       "  <thead>\n",
       "    <tr style=\"text-align: right;\">\n",
       "      <th></th>\n",
       "      <th>qid</th>\n",
       "      <th>docid</th>\n",
       "      <th>docno</th>\n",
       "      <th>rank</th>\n",
       "      <th>score</th>\n",
       "      <th>query</th>\n",
       "      <th>text</th>\n",
       "    </tr>\n",
       "  </thead>\n",
       "  <tbody>\n",
       "    <tr>\n",
       "      <th>0</th>\n",
       "      <td>1</td>\n",
       "      <td>401968</td>\n",
       "      <td>403301</td>\n",
       "      <td>0</td>\n",
       "      <td>21.629457</td>\n",
       "      <td>Comment rparer mon vlo</td>\n",
       "      <td>elle est issue de la fusion en 1981 de l opéra...</td>\n",
       "    </tr>\n",
       "    <tr>\n",
       "      <th>1</th>\n",
       "      <td>1</td>\n",
       "      <td>485591</td>\n",
       "      <td>487240</td>\n",
       "      <td>1</td>\n",
       "      <td>21.287983</td>\n",
       "      <td>Comment rparer mon vlo</td>\n",
       "      <td>elle suit la guérison d un possédé muet et fai...</td>\n",
       "    </tr>\n",
       "    <tr>\n",
       "      <th>2</th>\n",
       "      <td>1</td>\n",
       "      <td>195615</td>\n",
       "      <td>196210</td>\n",
       "      <td>2</td>\n",
       "      <td>19.694506</td>\n",
       "      <td>Comment rparer mon vlo</td>\n",
       "      <td>pour saluer bien bas on fait acte de soumissio...</td>\n",
       "    </tr>\n",
       "    <tr>\n",
       "      <th>3</th>\n",
       "      <td>1</td>\n",
       "      <td>163481</td>\n",
       "      <td>164009</td>\n",
       "      <td>3</td>\n",
       "      <td>19.581240</td>\n",
       "      <td>Comment rparer mon vlo</td>\n",
       "      <td>l histoire raconte comment les personnages des...</td>\n",
       "    </tr>\n",
       "    <tr>\n",
       "      <th>4</th>\n",
       "      <td>1</td>\n",
       "      <td>129221</td>\n",
       "      <td>129661</td>\n",
       "      <td>4</td>\n",
       "      <td>19.424128</td>\n",
       "      <td>Comment rparer mon vlo</td>\n",
       "      <td>le dæmon serait donc en quelque sorte la manif...</td>\n",
       "    </tr>\n",
       "  </tbody>\n",
       "</table>\n",
       "</div>"
      ],
      "text/plain": [
       "  qid   docid   docno  rank      score                    query  \\\n",
       "0   1  401968  403301     0  21.629457  Comment rparer mon vlo    \n",
       "1   1  485591  487240     1  21.287983  Comment rparer mon vlo    \n",
       "2   1  195615  196210     2  19.694506  Comment rparer mon vlo    \n",
       "3   1  163481  164009     3  19.581240  Comment rparer mon vlo    \n",
       "4   1  129221  129661     4  19.424128  Comment rparer mon vlo    \n",
       "\n",
       "                                                text  \n",
       "0  elle est issue de la fusion en 1981 de l opéra...  \n",
       "1  elle suit la guérison d un possédé muet et fai...  \n",
       "2  pour saluer bien bas on fait acte de soumissio...  \n",
       "3  l histoire raconte comment les personnages des...  \n",
       "4  le dæmon serait donc en quelque sorte la manif...  "
      ]
     },
     "execution_count": 31,
     "metadata": {},
     "output_type": "execute_result"
    }
   ],
   "source": [
    "import re\n",
    "\n",
    "document_data: dict[str, pd.DataFrame] = dict()\n",
    "\n",
    "for lang in languages:\n",
    "    index_ref = indices[lang]\n",
    "    dataset = datasets[lang]\n",
    "\n",
    "    pipeline = pt.BatchRetrieve(\n",
    "        index_ref, wmodel=\"BM25\", metadata=[\"docno\"], num_results=5\n",
    "    ) >> pt.text.get_text(dataset, \"text\")\n",
    "\n",
    "    sanitised_query = re.sub(r\"[^a-zA-Z0-9 ]\", \"\", qs[lang])\n",
    "\n",
    "    pandas_df: pd.DataFrame = pipeline.search(sanitised_query)\n",
    "    document_data[lang] = pandas_df\n",
    "\n",
    "print(\n",
    "    \"Results for fr\",\n",
    "    document_data[\"fr\"].keys(),\n",
    "    \"- shape:\",\n",
    "    document_data[\"fr\"].shape,\n",
    "    \"top 5:\"\n",
    ")\n",
    "\n",
    "document_data[\"fr\"].head()"
   ]
  },
  {
   "cell_type": "code",
   "execution_count": 32,
   "metadata": {},
   "outputs": [
    {
     "name": "stdout",
     "output_type": "stream",
     "text": [
      "Words in document: 200\n"
     ]
    }
   ],
   "source": [
    "top_document = document_data[\"fr\"].head(1)[\"text\"].values[0]\n",
    "\n",
    "print(\"Words in document:\", len(top_document.split(\" \")))"
   ]
  },
  {
   "cell_type": "markdown",
   "metadata": {},
   "source": [
    "## 4. Document translation\n",
    "\n",
    "Translate the documents back to English to be processed by other algorithms\n"
   ]
  },
  {
   "cell_type": "code",
   "execution_count": 33,
   "metadata": {},
   "outputs": [],
   "source": [
    "documents_translated: dict[str, list[str]] = dict()\n",
    "\n",
    "# TODO parallelize these 2 loops\n",
    "for lang, docs in document_data.items():\n",
    "    text_docs = docs[\"text\"].tolist()\n",
    "\n",
    "    documents_translated[lang] = [\n",
    "        GoogleTranslator(source=lang, target=\"en\").translate(text=d) for d in text_docs\n",
    "    ]"
   ]
  },
  {
   "cell_type": "code",
   "execution_count": 34,
   "metadata": {},
   "outputs": [
    {
     "data": {
      "text/plain": [
       "['it resulted from the merger in 1981 of the royal Flemish opera of Antwerp and the opera of Ghent due to the financial difficulties faced by the operas of Ghent and Antwerp the intercommunal society opera for flanders opera voor flaanderen ovv was created in 1981 it involves the cities of ghent and antwerp and the Flemish community the two municipal operas were thus merged in 1986 the ovv is short of financial means and can no longer pay salaries the Flemish community refuses to intervene and the opera is occupied by staff a commission of inquiry from the Flemish council produces a harsh report for the administration of the ovv the Flemish executive implements a restructuring plan involving the dissolution of the ovv which takes place the Flemish executive considers that a quality opera must continue to exist in flanders on July 20, 1988 the non-profit association asbl vlaamse operastichting vlos foundation of flemish opera in french is created the vlos takes over most of the staff of the ovv several trials followed from which it emerged among other things that an asbl is not the',\n",
       " 'it follows the healing of a mute possessed man and alludes to the devil Jesus having healed a demoniac a mute possessed man the Pharisees suspect him of casting out demons by the prince of demons to their accusations Jesus replies that it is from God quite the contrary that he holds his healing power in support of his reasoning he produces the parable of the strong man the Pharisees having heard this said this man only casts out demons by Beelzebub prince of demons 25 as Jesus knew their thoughts he told them every kingdom divided against himself is devastated and every city or house divided against itself cannot stand 26 if satan drives out satan he is divided against himself how then will his kingdom stand 27 and if I drive out demons by beelzebub your sons by whom they drive them out therefore they themselves will be your judges 28 but if it is by the Spirit of God that I cast out demons then the kingdom of God has come to you 29 or how can anyone enter the house of a strong man and plunder',\n",
       " \"to salute very lowly we act as an act of submission by making a curtsy exclamatory and familiar expression to greet someone a greeting can mean as well hello hello my friend hello the company it is synonymous with cuckoo from the Latin ave and yo among rappers it is also synonym of goodbye hi I'm breaking which is a synonym in this sense of English bye bye the French speaker wishes a good day or a good evening depending on the time of day and inquires about the state of his interlocutor hello how are you this greeting calls for a reassuring response followed by a reminder hello everything is going well thank you and yourself how are you the title of the interlocutor is very often interspersed hello sir how are you hello mr president how are you the greeting can be accompanied by a compliment or an emphasis hello ma'am how are you this dress looks great on you to which it is answered hello sir or madam it is fine thank you I am flattered and you yourself how are you or and you yourself what a beautiful outfit you are wearing how are you or hello dear colleague\",\n",
       " \"the story tells how the characters of the iron ladies met and how they then came together for a new volleyball tournament the film takes place in 1996 when the real team participated and won the national men's volleyball championships in thailand the two characters main characters mon and jung are two homosexual transvestites who have always been dismissed by volleyball coaches because of their extravagances and yet when a local team changes coaches the new coach leads qualifications to start a new team when mon and jung are retained most of the old players quit leaving their coach bee in a precarious situation mon and jung are then forced to enlist some of their gay and transgender friends who had played volleyball in college these new players are wit who has not yet come out as gay to his fiancée pia a transgender dancer and nong a homosexual officer in the army when the competition begins all the players on the team are homosexual or transgender except one because of their eccentricities and on the floor fancy outfits victory dance consisting of a charming\",\n",
       " 'the dæmon would therefore be in a way the physical manifestation of the soul of a human many characteristics of dæmons agree with certain concepts of psychology or anthropology in other worlds like ours according to the book the dæmons are invisible but nevertheless exist to try to to see it you have to open your mind and it will appear the dæmon of a child is an animal but it does not have a definitive form and changes at will according to the circumstances but at puberty of the child the dæmon takes a definitive form which reflects the personality of the person the dæmon is generally of the opposite sex to that of his human however in certain cases the dæmon is of the same sex as his human which is interpreted by many readers as a sign of the homosexuality of this character philip pullman indicates that he did not have this intention but that it is possible just as it could indicate a gift of double vision he says in an interview it is also never explained at any point in the book how dæmons are born and in what form to touch the dæmon']"
      ]
     },
     "execution_count": 34,
     "metadata": {},
     "output_type": "execute_result"
    }
   ],
   "source": [
    "documents_translated[\"fr\"]"
   ]
  },
  {
   "cell_type": "markdown",
   "metadata": {},
   "source": [
    "## 5. Find domain-specific keywords\n",
    "\n",
    "Find the most frequent words in the documents, exlude the 1000 most used words in the English language\n"
   ]
  },
  {
   "cell_type": "code",
   "execution_count": 37,
   "metadata": {},
   "outputs": [
    {
     "name": "stdout",
     "output_type": "stream",
     "text": [
      "(Counter({'the': 18, 'in': 13, 'and': 8, 'shop': 8, 'bike': 7, 'bicycle': 4, 'edinburgh': 4, 'bruntsfield': 4, 'to': 3, 'offers': 3, 'of': 3, 'on': 3, 'by': 3, 'has': 2, 'grown': 2, 'be': 2, 'with': 2, 'stores': 2, 'city': 2, 'cooperative': 2, 'is': 2, 'found': 2, 'a': 2, 'its': 2, '2017': 2, 'cycling': 2, 'weekly': 2, 'retail': 2, 'offering': 2, 'accessories': 2, 'clothing': 2, 'components': 2, 'also': 2, 'repairs': 2, 'servicing': 2, 'canonmills': 2, 'store': 2, 'street': 2, 'aberdeen': 2, 'recent': 1, 'years': 1, 'co': 1, 'operative': 1, 'arguably': 1, 'dominant': 1, 'retailer': 1, 'scotland': 1, 'largest': 1, 'each': 1, 'respective': 1, 'business': 1, 'products': 1, 'from': 1, 'many': 1, 'leadings': 1, 'brands': 1, 'including': 1, 'specialized': 1, 'whyte': 1, 'brompton': 1, 'kalkhoff': 1, 'frog': 1, 'giant': 1, 'longest': 1, 'established': 1, 'all': 1, 'victorian': 1, 'building': 1, 'whitehouse': 1, 'loan': 1, 'skirted': 1, 'meadows': 1, 'cyclepath': 1, 'overlooking': 1, 'links': 1, 'since': 1, 'opening': 1, '1979': 1, 'size': 1, 'reputation': 1, 'winning': 1, 'coveted': 1, 'best': 1, 'uk': 1, 'award': 1, 'along': 1, 'comprehensive': 1, 'bikes': 1, 'rodney': 1, 'became': 1, 'an': 1, '2013': 1, 'previously': 1, 'it': 1, 'traded': 1, 'as': 1, 'cycles': 1, 'then': 1, 'chain': 1, 'addition': 1, 'bicycles': 1, 'george': 1, 'was': 1, 'top': 1, 'voted': 1, 'trading': 1}), 200)\n",
      "(Counter({'in': 13, 'the': 9, 'to': 8, 'and': 7, 'citybikes': 7, 'a': 5, 'annex': 3, 'used': 3, 'repair': 3, 'shop': 3, 'was': 3, 'by': 3, 'retail': 2, 'specializing': 2, 'new': 2, 'bike': 2, 'building': 2, 'into': 2, 'cooperative': 2, 'rn': 2, 'business': 2, 'expanded': 2, 'of': 2, 'bikes': 2, 'also': 2, 'space': 2, 'remodeled': 2, 'with': 2, 'consensus': 2, 'are': 2, 'day': 2, 'it': 1, 'encompasses': 1, 'two': 1, 'locations': 1, 'shops': 1, 'sales': 1, 'parts': 1, 'founded': 1, 'roger': 1, 'noehren': 1, 'as': 1, 'sole': 1, 'proprietorship': 1, '1986': 1, 'current': 1, 'he': 1, 'hired': 1, 'tim': 1, 'calvert': 1, 'august': 1, '1989': 1, 'transform': 1, 'worker': 1, 'owned': 1, 'w': 1, 'o': 1, 'which': 1, 'came': 1, 'being': 1, 'january': 1, '1990': 1, 'continued': 1, 'grow': 1, '1995': 1, 'instigated': 1, 'who': 1, 'returned': 1, '1994': 1, 'at': 1, 'this': 1, 'time': 1, 'began': 1, 'sell': 1, 'higher': 1, 'volume': 1, 'carry': 1, 'further': 1, '2002': 1, 'double': 1, '2008': 1, 'has': 1, 'grown': 1, 'from': 1, 'fledgling': 1, 'enterprise': 1, 'successful': 1, 'cooperatively': 1, 'run': 1, 'employing': 1, 'about': 1, '20': 1, 'people': 1, 'winter': 1, '25': 1, 'summer': 1, 'operates': 1, 'based': 1, 'decision': 1, 'making': 1, 'majority': 1, 'decisions': 1, 'that': 1, 'affect': 1, 'made': 1, 'bimonthly': 1, 'general': 1, 'meetings': 1, 'all': 1, 'workers': 1, 'present': 1, 'having': 1, 'equal': 1, 'say': 1, 'voting': 1, 'power': 1, 'operations': 1, 'carried': 1, 'out': 1, 'does': 1, 'not': 1, 'have': 1, 'any': 1, 'managers': 1, 'or': 1, 'traditional': 1}), 200)\n",
      "(Counter({'the': 15, 'in': 8, 'was': 7, 'police': 6, 'kenk': 5, 'a': 5, 'toronto': 5, 'on': 4, 'bicycles': 3, 'to': 3, 'of': 3, 'city': 3, 'bike': 3, 'with': 3, 'and': 3, 'were': 2, 'criminal': 2, 'code': 2, 'charges': 2, 'old': 2, 'he': 2, 'slovenia': 2, 'ontario': 2, 'for': 2, 'bicycle': 2, 'clinic': 2, 'repair': 2, 'queen': 2, 'service': 2, 'bikes': 2, 'fire': 2, 'department': 2, 'more': 1, 'than': 1, '3': 1, '000': 1, 'recovered': 1, 'raids': 1, 'pleaded': 1, 'guilty': 1, 'sixteen': 1, 'theft': 1, '15': 1, 'december': 1, '2009': 1, 'at': 1, 'hall': 1, 'court': 1, 'dubbed': 1, 'world': 1, 's': 1, 'most': 1, 'prolific': 1, 'thief': 1, 'igor': 1, 'born': 1, '7': 1, 'april': 1, '1959': 1, 'maribor': 1, 'officer': 1, 'february': 1, '1988': 1, 'moved': 1, 'canada': 1, 'long': 1, 'known': 1, 'operating': 1, 'shop': 1, 'st': 1, 'w': 1, 'may': 1, '1993': 1, 'charged': 1, 'offence': 1, 'possession': 1, 'stolen': 1, 'property': 1, 'confiscated': 1, '140': 1, 'but': 1, 'later': 1, 'dismissed': 1, '14th': 1, 'division': 1, 'raided': 1, '16': 1, 'july': 1, '2008': 1, 'however': 1, 'blocked': 1, 'from': 1, 'entering': 1, 'building': 1, 'safety': 1, 'reasons': 1, 'rescue': 1, 'squad': 1, 'had': 1, 'remove': 1, 'upper': 1, 'floor': 1, 'windows': 1, 'lower': 1, 'by': 1, 'rope': 1, 'because': 1, 'west': 1, 'store': 1, 'crammed': 1, 'parts': 1, 'sting': 1, 'uncovered': 1, '2': 1, '865': 1, 'garages': 1, 'warehouses': 1, 'throughout': 1, '50': 1, 'year': 1, 'man': 1, 'hit': 1}), 200)\n",
      "(Counter({'and': 12, 'to': 9, 'the': 6, 'bikes': 5, 'riders': 5, 'mountain': 4, 'with': 4, 'in': 4, 'downhill': 4, 'trails': 4, 'are': 3, 'off': 3, 'features': 2, 'designed': 2, 'broken': 2, 'country': 2, 'trail': 2, 'as': 2, 'enduro': 2, 'freeride': 2, 'dirt': 2, 'jumping': 2, 'sport': 2, 'bike': 2, 'self': 2, 'reliance': 2, 'advanced': 2, 'both': 2, 'of': 2, 'jumps': 2, 'ride': 2, 'roads': 2, 'often': 2, 'ski': 2, 'a': 2, 'share': 1, 'similarities': 1, 'other': 1, 'but': 1, 'incorporate': 1, 'enhance': 1, 'durability': 1, 'performance': 1, 'rough': 1, 'terrain': 1, 'biking': 1, 'can': 1, 'generally': 1, 'be': 1, 'down': 1, 'into': 1, 'multiple': 1, 'categories': 1, 'cross': 1, 'riding': 1, 'all': 1, 'also': 1, 'referred': 1, 'this': 1, 'requires': 1, 'endurance': 1, 'core': 1, 'strength': 1, 'balance': 1, 'handling': 1, 'skills': 1, 'pursue': 1, 'steep': 1, 'technical': 1, 'descents': 1, 'high': 1, 'incline': 1, 'climbs': 1, 'case': 1, 'aerial': 1, 'maneuvers': 1, 'performed': 1, 'natural': 1, 'specially': 1, 'constructed': 1, 'ramps': 1, 'bikers': 1, 'on': 1, 'road': 1, 'such': 1, 'singletrack': 1, 'back': 1, 'wider': 1, 'park': 1, 'fire': 1, 'some': 1, 'berms': 1, 'drop': 1, 'add': 1, 'excitement': 1, 'will': 1, 'visit': 1, 'resorts': 1, 'that': 1, 'stay': 1, 'open': 1, 'summer': 1, 'specific': 1, 'using': 1, 'lifts': 1, 'return': 1, 'top': 1, 'their': 1, 'because': 1, 'far': 1, 'from': 1, 'civilization': 1, 'there': 1, 'is': 1, 'strong': 1, 'ethic': 1, 'learn': 1, 'repair': 1, 'flat': 1, 'tires': 1, 'avoid': 1, 'being': 1, 'stranded': 1, 'many': 1, 'carry': 1, 'backpack': 1}), 200)\n",
      "(Counter({'the': 16, 'and': 9, 'of': 8, 'a': 7, 'is': 6, 'in': 5, 'centre': 5, 'bike': 5, 'cycle': 4, 'on': 3, 'by': 3, 'all': 3, 'cannop': 2, 'forest': 2, 'pedalabikeaway': 2, 'use': 2, 'visitor': 2, 'trails': 2, 'facilities': 2, 'wash': 2, 'operated': 2, 'open': 2, 'year': 2, 'downhill': 2, 'built': 2, 'with': 2, 'it': 1, 'located': 1, 'former': 1, 'site': 1, 'colliery': 1, 'valley': 1, 'dean': 1, 'gloucestershire': 1, 'nearest': 1, 'village': 1, 'parkend': 1, 'away': 1, 'has': 1, 'been': 1, 'an': 1, 'active': 1, 'supporter': 1, 'hands': 1, 'off': 1, 'our': 1, 'campaign': 1, 'hosted': 1, 'protest': 1, 'rally': 1, 'january': 1, '2011': 1, '2012': 1, 'work': 1, 'was': 1, 'completed': 1, '100': 1, '000': 1, 'redevelopment': 1, 'culminating': 1, 'opening': 1, 'new': 1, 'bridge': 1, 'completely': 1, 'free': 1, 'there': 1, 'charge': 1, 'for': 1, 'car': 1, 'parking': 1, 'some': 1, 'such': 1, 'as': 1, 'include': 1, 'comprises': 1, 'caf': 1, 'shop': 1, 'hire': 1, 'repair': 1, 'workshop': 1, 'showers': 1, 'toilets': 1, 'compressed': 1, 'air': 1, 'flyup': 1, 'mini': 1, 'bus': 1, 'purpose': 1, 'trailer': 1, 'transport': 1, 'riders': 1, 'to': 1, 'top': 1, 'runs': 1, 'three': 1, 'main': 1, 'waymarked': 1, 'start': 1, 'finish': 1, 'at': 1, 'weather': 1, 'loop': 1, 'designed': 1, 'maintained': 1, 'volunteers': 1, 'partnership': 1, 'forestry': 1, 'commission': 1, 'this': 1, 'challenging': 1, 'varied': 1, 'single': 1, 'track': 1, 'several': 1, 'tricky': 1, 'switchback': 1, 'climbs': 1, 'rooty': 1, 'drops': 1, 'hairpin': 1, 'bends': 1, 'trail': 1, 'graded': 1, 'red': 1}), 200)\n",
      "(Counter({'the': 24, 'of': 12, 'opera': 7, 'Flemish': 6, 'and': 6, 'in': 5, 'ovv': 5, 'is': 4, 'a': 4, 'it': 3, 'from': 3, 'to': 3, '1981': 2, 'Antwerp': 2, 'Ghent': 2, 'financial': 2, 'by': 2, 'operas': 2, 'for': 2, 'flanders': 2, 'created': 2, 'community': 2, 'staff': 2, 'executive': 2, 'which': 2, 'takes': 2, 'that': 2, 'asbl': 2, 'vlos': 2, 'resulted': 1, 'merger': 1, 'royal': 1, 'due': 1, 'difficulties': 1, 'faced': 1, 'intercommunal': 1, 'society': 1, 'voor': 1, 'flaanderen': 1, 'was': 1, 'involves': 1, 'cities': 1, 'ghent': 1, 'antwerp': 1, 'two': 1, 'municipal': 1, 'were': 1, 'thus': 1, 'merged': 1, '1986': 1, 'short': 1, 'means': 1, 'can': 1, 'no': 1, 'longer': 1, 'pay': 1, 'salaries': 1, 'refuses': 1, 'intervene': 1, 'occupied': 1, 'commission': 1, 'inquiry': 1, 'council': 1, 'produces': 1, 'harsh': 1, 'report': 1, 'administration': 1, 'implements': 1, 'restructuring': 1, 'plan': 1, 'involving': 1, 'dissolution': 1, 'place': 1, 'considers': 1, 'quality': 1, 'must': 1, 'continue': 1, 'exist': 1, 'on': 1, 'July': 1, '20,': 1, '1988': 1, 'non-profit': 1, 'association': 1, 'vlaamse': 1, 'operastichting': 1, 'foundation': 1, 'flemish': 1, 'french': 1, 'over': 1, 'most': 1, 'several': 1, 'trials': 1, 'followed': 1, 'emerged': 1, 'among': 1, 'other': 1, 'things': 1, 'an': 1, 'not': 1}), 187)\n",
      "(Counter({'the': 11, 'of': 9, 'out': 6, 'demons': 6, 'man': 5, 'by': 5, 'a': 4, 'and': 4, 'is': 4, 'he': 4, 'it': 3, 'to': 3, 'Jesus': 3, 'that': 3, 'God': 3, 'his': 3, 'kingdom': 3, 'divided': 3, 'against': 3, 'if': 3, 'healing': 2, 'mute': 2, 'possessed': 2, 'having': 2, 'Pharisees': 2, 'prince': 2, 'their': 2, 'strong': 2, 'this': 2, 'them': 2, 'every': 2, 'himself': 2, 'or': 2, 'house': 2, 'stand': 2, 'satan': 2, 'how': 2, 'then': 2, 'will': 2, 'I': 2, 'drive': 2, 'your': 2, 'they': 2, 'follows': 1, 'alludes': 1, 'devil': 1, 'healed': 1, 'demoniac': 1, 'suspect': 1, 'him': 1, 'casting': 1, 'accusations': 1, 'replies': 1, 'from': 1, 'quite': 1, 'contrary': 1, 'holds': 1, 'power': 1, 'in': 1, 'support': 1, 'reasoning': 1, 'produces': 1, 'parable': 1, 'heard': 1, 'said': 1, 'only': 1, 'casts': 1, 'Beelzebub': 1, '25': 1, 'as': 1, 'knew': 1, 'thoughts': 1, 'told': 1, 'devastated': 1, 'city': 1, 'itself': 1, 'cannot': 1, '26': 1, 'drives': 1, '27': 1, 'beelzebub': 1, 'sons': 1, 'whom': 1, 'therefore': 1, 'themselves': 1, 'be': 1, 'judges': 1, '28': 1, 'but': 1, 'Spirit': 1, 'cast': 1, 'has': 1, 'come': 1, 'you': 1, '29': 1, 'can': 1, 'anyone': 1, 'enter': 1, 'plunder': 1}), 190)\n",
      "(Counter({'you': 13, 'hello': 10, 'a': 9, 'the': 8, 'are': 8, 'is': 7, 'how': 7, 'of': 6, 'and': 6, 'or': 5, 'it': 4, 'to': 3, 'by': 3, 'greeting': 3, 'this': 3, 'yourself': 3, 'very': 2, 'act': 2, 'as': 2, 'an': 2, 'can': 2, 'well': 2, 'synonym': 2, 'which': 2, 'bye': 2, 'good': 2, 'day': 2, 'on': 2, 'interlocutor': 2, 'thank': 2, 'sir': 2, 'salute': 1, 'lowly': 1, 'we': 1, 'submission': 1, 'making': 1, 'curtsy': 1, 'exclamatory': 1, 'familiar': 1, 'expression': 1, 'greet': 1, 'someone': 1, 'mean': 1, 'my': 1, 'friend': 1, 'company': 1, 'synonymous': 1, 'with': 1, 'cuckoo': 1, 'from': 1, 'Latin': 1, 'ave': 1, 'yo': 1, 'among': 1, 'rappers': 1, 'also': 1, 'goodbye': 1, 'hi': 1, \"I'm\": 1, 'breaking': 1, 'in': 1, 'sense': 1, 'English': 1, 'French': 1, 'speaker': 1, 'wishes': 1, 'evening': 1, 'depending': 1, 'time': 1, 'inquires': 1, 'about': 1, 'state': 1, 'his': 1, 'calls': 1, 'for': 1, 'reassuring': 1, 'response': 1, 'followed': 1, 'reminder': 1, 'everything': 1, 'going': 1, 'title': 1, 'often': 1, 'interspersed': 1, 'mr': 1, 'president': 1, 'be': 1, 'accompanied': 1, 'compliment': 1, 'emphasis': 1, \"ma'am\": 1, 'dress': 1, 'looks': 1, 'great': 1, 'answered': 1, 'madam': 1, 'fine': 1, 'I': 1, 'am': 1, 'flattered': 1, 'what': 1, 'beautiful': 1, 'outfit': 1, 'wearing': 1, 'dear': 1, 'colleague': 1}), 203)\n",
      "(Counter({'the': 14, 'and': 9, 'a': 7, 'of': 6, 'in': 5, 'are': 5, 'new': 4, 'volleyball': 4, 'when': 4, 'team': 4, 'their': 4, 'characters': 3, 'mon': 3, 'jung': 3, 'homosexual': 3, 'who': 3, 'to': 3, 'players': 3, 'transgender': 3, 'how': 2, 'then': 2, 'two': 2, 'coaches': 2, 'because': 2, 'yet': 2, 'coach': 2, 'gay': 2, 'on': 2, 'story': 1, 'tells': 1, 'iron': 1, 'ladies': 1, 'met': 1, 'they': 1, 'came': 1, 'together': 1, 'for': 1, 'tournament': 1, 'film': 1, 'takes': 1, 'place': 1, '1996': 1, 'real': 1, 'participated': 1, 'won': 1, 'national': 1, \"men's\": 1, 'championships': 1, 'thailand': 1, 'main': 1, 'transvestites': 1, 'have': 1, 'always': 1, 'been': 1, 'dismissed': 1, 'by': 1, 'extravagances': 1, 'local': 1, 'changes': 1, 'leads': 1, 'qualifications': 1, 'start': 1, 'retained': 1, 'most': 1, 'old': 1, 'quit': 1, 'leaving': 1, 'bee': 1, 'precarious': 1, 'situation': 1, 'forced': 1, 'enlist': 1, 'some': 1, 'friends': 1, 'had': 1, 'played': 1, 'college': 1, 'these': 1, 'wit': 1, 'has': 1, 'not': 1, 'come': 1, 'out': 1, 'as': 1, 'his': 1, 'fiancée': 1, 'pia': 1, 'dancer': 1, 'nong': 1, 'officer': 1, 'army': 1, 'competition': 1, 'begins': 1, 'all': 1, 'or': 1, 'except': 1, 'one': 1, 'eccentricities': 1, 'floor': 1, 'fancy': 1, 'outfits': 1, 'victory': 1, 'dance': 1, 'consisting': 1, 'charming': 1}), 185)\n",
      "(Counter({'the': 18, 'of': 13, 'to': 8, 'a': 7, 'dæmon': 6, 'in': 6, 'it': 6, 'is': 6, 'but': 4, 'human': 3, 'dæmons': 3, 'have': 3, 'and': 3, 'form': 3, 'at': 3, 'that': 3, 'as': 3, 'many': 2, 'certain': 2, 'according': 2, 'book': 2, 'are': 2, 'will': 2, 'child': 2, 'an': 2, 'not': 2, 'definitive': 2, 'which': 2, 'sex': 2, 'his': 2, 'this': 2, 'he': 2, 'would': 1, 'therefore': 1, 'be': 1, 'way': 1, 'physical': 1, 'manifestation': 1, 'soul': 1, 'characteristics': 1, 'agree': 1, 'with': 1, 'concepts': 1, 'psychology': 1, 'or': 1, 'anthropology': 1, 'other': 1, 'worlds': 1, 'like': 1, 'ours': 1, 'invisible': 1, 'nevertheless': 1, 'exist': 1, 'try': 1, 'see': 1, 'you': 1, 'open': 1, 'your': 1, 'mind': 1, 'appear': 1, 'animal': 1, 'does': 1, 'changes': 1, 'circumstances': 1, 'puberty': 1, 'takes': 1, 'reflects': 1, 'personality': 1, 'person': 1, 'generally': 1, 'opposite': 1, 'however': 1, 'cases': 1, 'same': 1, 'interpreted': 1, 'by': 1, 'readers': 1, 'sign': 1, 'homosexuality': 1, 'character': 1, 'philip': 1, 'pullman': 1, 'indicates': 1, 'did': 1, 'intention': 1, 'possible': 1, 'just': 1, 'could': 1, 'indicate': 1, 'gift': 1, 'double': 1, 'vision': 1, 'says': 1, 'interview': 1, 'also': 1, 'never': 1, 'explained': 1, 'any': 1, 'point': 1, 'how': 1, 'born': 1, 'what': 1, 'touch': 1}), 199)\n",
      "(Counter({'of': 12, 'in': 11, 'he': 8, 'and': 8, 'the': 7, 'a': 6, 'to': 6, 'Barcelona': 4, 'Panikkar': 4, 'his': 4, 'that': 4, 'Opus': 4, 'my': 3, 'from': 3, 'had': 2, 'Raimon': 2, 'was': 2, 'between': 2, 'science': 2, 'with': 2, 'at': 2, 'Madrid': 2, 'Dei': 2, 'Escrivá': 2, 'did': 2, 'not': 2, 'become': 1, 'representative': 1, 'German': 1, 'chemical': 1, 'company': 1, 'four': 1, 'children': 1, 'Josep': 1, 'Maria': 1, 'Mercé': 1, 'Salvador': 1, 'according': 1, 'there': 1, 'profound': 1, 'harmony': 1, 'father': 1, 'mother': 1, 'even': 1, 'if': 1, 'they': 1, 'belonged': 1, 'two': 1, 'different': 1, 'traditions': 1, '1935': 1, 'graduated': 1, 'Jesuits': 1, 'enrolled': 1, 'faculties': 1, 'literature': 1, '1936': 1, 'escape': 1, 'Spanish': 1, 'civil': 1, 'war,': 1, 'moved': 1, 'family': 1, 'Bonn,': 1, 'Germany,': 1, 'where': 1, 'returned': 1, 'Spain': 1, 'alone': 1, 'by': 1, 'bicycle': 1, 'summer': 1, '1939.': 1, 'He': 1, 'completed': 1, 'studies': 1, 'Spain,': 1, 'graduating': 1, 'university.': 1, '1941': 1, 'letters': 1, '1942': 1, '1940': 1, 'upon': 1, 'return': 1, 'Germany': 1, 'approached': 1, 'first': 1, 'nucleus': 1, 'lay': 1, 'faithful': 1, 'establishing': 1, 'close': 1, 'relationship': 1, 'de': 1, 'Balaguer': 1, 'member': 1, 'for': 1, 'twenty': 1, 'years': 1, '1946': 1, 'suggestion': 1, 'received': 1, 'priestly': 1, 'ordination.': 1, 'later': 1, 'spoke': 1, 'period': 1, 'Dei,': 1, 'declaring': 1, 'only': 1, 'enter': 1, 'as': 1, 'someone': 1, 'who': 1, 'enters': 1, 'club': 1, 'but': 1, 'rather': 1, 'an': 1, 'ecclesial': 1, 'organization': 1, 'regret': 1, 'stage': 1, 'life.': 1}), 207)\n",
      "(Counter({'the': 27, 'of': 15, 'and': 10, 'a': 6, 'bicycle': 5, 'is': 3, 'album': 3, 'in': 3, 'by': 2, 'singer': 2, 'exploration': 2, 'reality': 2, 'alfonsina': 2, 'bike': 2, 'des': 2, 'La': 2, 'Sport': 2, 'it': 1, 'concept': 1, 'dedicated': 1, 'to': 1, 'goodbike': 1, 'result': 1, 'long': 1, 'in-depth': 1, 'path': 1, 'artistic': 1, 'investigation': 1, 'involving': 1, 'musical': 1, 'reading': 1, 'theater': 1, 'show': 1, 'novel': 1, 'about': 1, 'recyclists': 1, 'aedicle': 1, 'signed': 1, 'andrea': 1, 'satta': 1, 'creation': 1, 'festival': 1, 'course': 1, 'places': 1, 'that': 1, 'revolve': 1, 'around': 1, 'composed': 1, 'index': 1, 'tracks': 1, 'including': 1, 'six': 1, 'unreleased': 1, 'songs': 1, 'plus': 1, 'an': 1, 'extra': 1, 'tribute': 1, 'divided': 1, 'between': 1, 'epic': 1, 'cycling': 1, 'le': 1, 'bal': 1, 'cols': 1, 'coppi': 1, \"cyclist's\": 1, 'song': 1, 'social': 1, 'commitment': 1, 'we': 1, 'are': 1, 'corrosive': 1, 'traffic': 1, 'acid': 1, 'trumpet': 1, 'childish': 1, 'dimension': 1, 'game': 1, 'come': 1, 'on': 1, 'love': 1, 'my': 1, 'dear': 1, 'miss': 1, 'sees': 1, 'participation': 1, 'among': 1, 'others': 1, 'militants': 1, 'frontal': 1, 'assaults': 1, 'karisa': 1, 'kahindi': 1, 'Kenyan': 1, 'actor': 1, 'journalists': 1, 'Gianni': 1, 'Mura': 1, 'who': 1, 'also': 1, 'signs': 1, 'text': 1, 'Le': 1, 'Bal': 1, 'Cols': 1, 'Claudio': 1, 'Ferretti': 1, 'Marco': 1, 'Pastonesi': 1, 'Gazzetta': 1, 'dello': 1, 'Alessandra': 1, 'de': 1, 'Stefano': 1, 'Rai': 1, 'Maurizio': 1, 'Crosetti': 1, 'Repubblica': 1, 'Sergio': 1, 'Staino': 1, 'with': 1, 'some': 1, 'his': 1, 'cartoons': 1, 'booklet': 1, 'CD': 1, 'Alfonsina': 1, 'e': 1, 'la': 1, 'bici': 1}), 204)\n",
      "(Counter({'the': 17, 'and': 12, 'to': 9, 'in': 6, 'of': 5, 'brian': 5, 'a': 4, 'mia': 4, 'are': 4, 'with': 3, 'they': 3, 'by': 3, 'dom': 3, 'film': 2, 'fast': 2, 'furious': 2, 'only': 2, 'after': 2, 'manages': 2, 'escape': 2, 'de': 2, 'vince': 2, 'cars': 2, 'from': 2, 'train': 2, 'theft': 2, 'but': 2, 'men': 2, 'out': 2, 'against': 2, 'their': 2, 'former': 2, 'save': 2, 'be': 2, 'it': 1, 'is': 1, 'fifth': 1, 'series': 1, 'follows': 1, 'chronological': 1, 'order': 1, 'original': 1, 'parts': 1, 'budget': 1, '125': 1, 'million': 1, 'dollars': 1, 'grossed': 1, '626': 1, '137': 1, '675': 1, 'being': 1, 'arrested': 1, 'dominic': 1, 'toretto': 1, 'thanks': 1, 'help': 1, 'o': 1, 'conner': 1, 'tego': 1, \"rico's\": 1, 'sister': 1, 'rio': 1, 'janeiro': 1, 'where': 1, 'arrive': 1, 'favela': 1, 'hosted': 1, \"vince's\": 1, 'ex': 1, 'friend': 1, 'proposes': 1, 'steal': 1, 'luxury': 1, 'during': 1, 'reunited': 1, 'discover': 1, 'that': 1, 'whom': 1, 'carrying': 1, 'planning': 1, 'something': 1, 'them': 1, 'have': 1, 'stolen': 1, 'first': 1, 'two': 1, 'engage': 1, 'shootout': 1, 'partners': 1, 'assistants': 1, 'which': 1, 'latter': 1, 'kill': 1, 'three': 1, 'agents': 1, 'goddess': 1, 'Dom': 1, 'exits': 1, 'Brian': 1, 'two,': 1, 'chased': 1, 'burning': 1, 'vehicle,': 1, 'fall': 1, 'dive': 1, 'themselves': 1, 'bridge': 1, 'into': 1, 'water': 1, 'captured': 1, 'helpers': 1, 'who': 1, 'turn': 1, 'most': 1, 'powerful': 1, 'criminal': 1, 'businessman': 1, 'Rio': 1}), 205)\n",
      "(Counter({'the': 18, 'of': 6, 'and': 6, 'album': 5, 'with': 5, 'on': 4, 'in': 4, 'only': 3, 'noemi': 3, 'is': 2, 'a': 2, 'by': 2, 'think': 2, 'you': 2, 'because': 2, 'song': 2, 'my': 2, 'skin': 2, 'it': 2, 'title': 2, 'sulla': 2, 'mia': 2, 'pelle': 2, 'subsequently': 2, 'fish': 2, 'its': 2, 'copies,': 2, '2010': 2, 'for': 1, 'purchase': 1, 'itunes': 1, 'there': 1, 'an': 1, 'eleventh': 1, 'track': 1, 'version': 1, 'love': 1, 'si': 1, 'hate': 1, 'performed': 1, 'among': 1, 'authors': 1, 'we': 1, 'remember': 1, 'marco': 1, 'ciappelli': 1, 'diego': 1, 'calvetti': 1, 'who': 1, 'signed': 1, 'almost': 1, 'entire': 1, 'jerico': 1, 'emiliano': 1, 'cecere': 1, 'any': 1, 'case': 1, 'I': 1, 'francesco': 1, 'bianconi': 1, 'baustelle': 1, 'pio': 1, 'stefanini': 1, 'farewell': 1, 'greatest': 1, 'day': 1, 'hot': 1, 'gossip': 1, 'giulio': 1, 'calvino': 1, 'sergio': 1, 'maggioni': 1, 'all': 1, 'this': 1, 'flows': 1, 'which': 1, 'closes': 1, 'gives': 1, 'was': 1, 'composed': 1, 'entirely': 1, 'registered': 1, 'siae': 1, 'three': 1, 'versions': 1, 'original': 1, 'è': 1, 'senza': 1, 'di': 1, 'te': 1, 'changed': 1, 'to': 1, 'booklet': 1, 'quotes': 1, 'iggy': 1, 'pop': 1, \"doesn't\": 1, 'knows': 1, 'phrase': 1, 'taken': 1, 'from': 1, \"niccolò's\": 1, 'gills': 1, 'amaniti': 1, 'month': 1, 'after': 1, 'release': 1, 'publication': 1, 'sells': 1, 'more': 1, 'than': 1, '55,000': 1, 'obtaining': 1, 'first': 1, 'gold': 1, 'record,': 1, 'album,': 1, 'exceeding': 1, '70,000': 1, 'becomes': 1, 'platinum,': 1, 'before': 1, 'participating': 1, 'Sanremo': 1, 'festival': 1, 'then': 1, 're-releasing': 1, '28': 1, 'May': 1, 'at': 1}), 194)\n",
      "(Counter({'the': 9, 'of': 3, 'a': 3, 'to': 3, 'in': 3, 'was': 2, 'dedicated': 2, 'him.': 2, 'The': 2, 'bicycle': 2, 'Venetian': 2, 'with': 2, 'At': 1, 'site': 1, 'accident': 1, 'commemorative': 1, 'plaque': 1, 'museum': 1, 'Cesiomaggiore': 1, 'province': 1, 'Belluno': 1, 'company': 1, 'Wilier,': 1, 'Trieste-based': 1, 'manufacturer,': 1, 'has': 1, 'included': 1, 'single': 1, 'speed': 1, 'bike': 1, 'its': 1, '2012': 1, 'product': 1, 'range': 1, 'name': 1, 'Toni': 1, 'Bevilacqua.': 1, 'tribute': 1, 'pistard': 1, 'for': 1, 'successes': 1, 'achieved': 1, 'colors': 1, 'Wilier': 1, 'team': 1, 'between': 1, '40s': 1, 'and': 1, '50s': 1}), 72)\n",
      "(Counter({'she': 6, 'and': 4, 'was': 4, 'that': 3, 'are': 2, 'the': 2, 'of': 2, 'Among': 1, 'her': 1, 'hobbies': 1, 'skating': 1, 'cycling.': 1, 'Her': 1, 'measurements': 1, '89': 1, '69': 1, '99': 1, 'weighs': 1, '55': 1, 'kg.': 1, 'Regarding': 1, 'religion,': 1, 'Juliana': 1, 'stated': 1, 'raised': 1, 'by': 1, 'umbandistas.': 1, 'Currently,': 1, 'said': 1, 'still': 1, 'attends': 1, 'cults': 1, 'has': 1, 'done': 1, 'so': 1, 'since': 1, 'two': 1, 'years': 1, 'old.': 1, 'My': 1, 'grandmother': 1, 'head': 1, 'terreiro': 1, 'all': 1, 'my': 1, 'spiritual': 1, 'discovery': 1, 'through': 1, 'this': 1, 'thread': 1, 'actress': 1, 'declared': 1, 'is': 1, 'adept': 1, 'at': 1, 'readings': 1, 'kardecist': 1, 'tone': 1, 'believes': 1, 'in': 1, 'reincarnation': 1}), 77)\n",
      "(Counter({'the': 19, 'of': 7, 'that': 7, 'and': 5, 'is': 5, 'in': 4, 'a': 4, 'to': 4, 'circuits': 4, 'value': 4, 'cmos': 3, 'code': 3, '1': 3, 'logic': 3, 'characteristic': 2, 'use': 2, 'state': 2, 'consumption': 2, 'on': 2, 'integrated': 2, 'are': 2, 'technology': 2, 'digital': 2, 'signal': 2, 'other': 2, 'with': 2, 'its': 2, 'as': 2, 'Its': 1, 'main': 1, 'consists': 1, 'joint': 1, 'pmos-type': 1, 'nmos-type': 1, 'transistors': 1, 'configured': 1, 'such': 1, 'way': 1, 'idle': 1, 'power': 1, 'only': 1, 'due': 1, 'parasitic': 1, 'currents': 1, 'placed': 1, 'motherboard,': 1, 'currently': 1, 'most': 1, 'manufactured': 1, 'this': 1, 'includes': 1, 'microprocessors': 1, 'memories': 1, 'processors': 1, 'many': 1, 'types': 1, 'considerably': 1, 'low': 1, 'drain': 1, 'd': 1, 'connected': 1, 'ground': 1, 'vss': 1, 'does': 1, 'not': 1, 'propagate': 1, 'source': 1, 's': 1, 'therefore': 1, 'At': 1, 'output': 1, 'gate,': 1, 'pmos': 1, 'transistor,': 1, 'hand,': 1, 'conduction': 1, 'one': 1, 'propagates': 1, '3': 1, 'vdd': 1, 'at': 1, 'output.': 1, 'Another': 1, 'important': 1, 'CMOS': 1, 'they': 1, 'regenerative,': 1, 'degraded': 1, 'addresses': 1, 'gate.': 1, 'will': 1, 'be': 1, 'restored': 1, 'initial': 1, '0': 1, 'or': 1, 'long': 1, 'it': 1, 'still': 1, 'within': 1, 'noise': 1, 'margins': 1, 'circuit': 1, 'can': 1, 'tolerate': 1, 'was': 1, 'developed': 1, 'by': 1, 'wanlass': 1, 'sah': 1, 'fairchild': 1, 'semiconductor': 1, 'early': 1, '1960s': 1, 'however': 1, 'introduction': 1}), 191)\n",
      "(Counter({'the': 14, 'was': 8, 'of': 7, 'and': 7, 'it': 4, 'as': 4, '6100': 4, 'in': 4, 'so': 3, 'to': 3, 'CMOS': 3, 'produced': 3, 'by': 3, 'Harris': 3, 'used': 3, 'its': 3, 'low': 3, 'The': 2, '8': 2, 'also': 2, 'HM': 2, 'technology': 2, '8080': 2, '6800': 2, 'MHz': 2, 'consumption': 2, 'could': 2, 'a': 2, 'military': 2, 'microprocessor': 1, 'implemented': 1, 'PDP': 1, 'instruction': 1, 'set': 1, 'is': 1, 'sometimes': 1, 'referred': 1, 'PDP8': 1, 'when': 1, 'later': 1, 'Corporation': 1, 'known': 1, 'Intersil': 1, 'released': 1, 'second': 1, 'quarter': 1, '1975': 1, \"Harris'\": 1, '1976': 1, 'version': 1, 'family': 1, 'using': 1, 'instead': 1, 'bipolar': 1, 'NMOS': 1, 'technologies': 1, 'most': 1, 'contemporaries': 1, 'Intel': 1, 'Z80': 1, '6502': 1, '9900': 1, 'etc.': 1, 'because': 1, 'clock': 1, 'speeds.': 1, 'max': 1, 'for': 1, '6100A': 1, 'relatively': 1, 'less': 1, 'than': 1, '100': 1, 'mW': 1, 'at': 1, '10': 1, 'V': 1, '2': 1, 'operate': 1, 'band': 1, 'between': 1, '4': 1, '11': 1, 'volts': 1, 'they': 1, 'be': 1, 'with': 1, 'high': 1, 'reliability': 1, 'embedded': 1, 'systems': 1, 'without': 1, 'always': 1, 'needing': 1, 'use': 1, 'significant': 1, 'additional': 1, 'thermal': 1, 'dissipation.': 1, 'that': 1, 'rest': 1, 'system': 1, 'cmos': 1, 'intersil': 1, 'harris': 1, 'sources': 1, 'latter': 1, 'under': 1, 'specification': 1, 'some': 1, 'products': 1, 'alternative': 1, 'etc': 1, 'despite': 1, 'having': 1, 'an': 1, 'architecture': 1}), 191)\n",
      "(Counter({'the': 19, 'is': 8, 'a': 6, 'to': 6, 'of': 6, 'in': 5, 'that': 4, 'information': 3, 'be': 3, 'by': 3, 'system': 3, 'it': 3, 'memory': 3, 'and': 3, 'CMOS': 3, 'This': 2, 'can': 2, 'bios': 2, 'utility': 2, 'user': 2, 'during': 2, 'ram': 2, 'real-time': 2, 'The': 2, 'this': 2, 'battery': 2, 'used': 2, 'contained': 2, 'configuration': 2, 'modified': 1, 'through': 1, 'invoked': 1, 'startup.': 1, 'Due': 1, 'this,': 1, 'often': 1, 'confused': 1, 'with': 1, 'itself,': 1, 'but': 1, 'different': 1, 'entity.': 1, 'between': 1, '64': 1, '256.': 1, 'bytes': 1, 'capacity': 1, 'linked': 1, 'clock': 1, 'system.': 1, 'low-consumption': 1, 'technology': 1, 'allows': 1, 'powered': 1, 'same': 1, 'as': 1, \"motherboard's\": 1, 'clock.': 1, 'In': 1, 'first': 1, 'PCs,': 1, 'rechargeable': 1, 'was': 1, 'Currently,': 1, 'disposable': 1, 'button-type': 1, 'lithium': 1, 'batteries': 1, 'are': 1, 'used.': 1, 'RAM': 1, 'BIOS': 1, 'computer': 1, 'startup': 1, 'establish': 1, 'configuration.': 1, 'At': 1, 'time,': 1, 'integrity': 1, 'content': 1, 'checked': 1, 'if': 1, 'data': 1, 'incorrect': 1, 'An': 1, 'error': 1, 'generated': 1, 'requests': 1, 'response': 1, 'from': 1, 'about': 1, 'action': 1, 'follow': 1, 'continue': 1, 'or': 1, 'enter': 1, 'some': 1, 'cases': 1, 'cmos': 1, 'leads': 1, 'does': 1, 'not': 1, 'allow': 1, 'normal': 1, 'booting': 1, 'motherboard': 1}), 183)\n",
      "(Counter({'the': 12, 'of': 8, 'with': 7, 'image': 6, 'is': 6, 'and': 5, 'cmos': 4, 'sensor': 4, 'final': 4, '3': 4, 'that': 4, 'a': 4, 'to': 3, 'green': 3, 'blue': 3, '24mpx': 3, 'in': 3, 'color': 3, 'camera': 2, 'generate': 2, 'interpolation': 2, 'red': 2, 'system': 2, '4': 2, 'or': 2, 'previous': 1, 'k3': 1, 'any': 1, 'reflex': 1, 'made': 1, 'based': 1, 'on': 1, 'images': 1, 'for': 1, 'example': 1, 'k': 1, 'created': 1, 'from': 1, '6mpx': 1, 'each,': 1, 'once': 1, 'combined,': 1, 'obtained.': 1, 'The': 1, 'new': 1, 'Pentax': 1, 'K': 1, 'II': 1, 'allows,': 1, 'by': 1, 'moving': 1, 'directions,': 1, 'distance': 1, '1': 1, 'pixel,': 1, 'take': 1, 'simultaneous': 1, 'captures': 1, 'so': 1, 'complete': 1, 'obtained': 1, 'each': 1, 'red,': 1, 'channel,': 1, 'this': 1, 'way': 1, 'you': 1, 'avoid': 1, 'having': 1, 'perform': 1, 'pixel': 1, 'can': 1, 'great': 1, 'level': 1, 'detail': 1, 'without': 1, 'moiré': 1, 'artifacts': 1, 'false': 1, 'colors': 1, 'sometimes': 1, 'occur': 1, 'cameras': 1, 'bayer': 1, 'pattern': 1, 'all': 1, 'sensors': 1, 'have': 1, 'aps': 1, 'c': 1, 'device': 1, 'an': 1, 'effective': 1, 'resolution': 1, '24': 1, '35': 1, 'megapixels': 1, 'prime': 1, 'iii': 1, 'processor': 1, 'it': 1, 'shares': 1, 'pentax': 1, '645z': 1, 'another': 1, 'its': 1, 'features': 1}), 182)\n"
     ]
    }
   ],
   "source": [
    "from collections import Counter\n",
    "\n",
    "# We have N documents per language and L langauges\n",
    "\n",
    "# Convert each document to a set of words associated with its occurrence\n",
    "def document_to_wordset(doc):\n",
    "    # Create list of all words in doc\n",
    "    allwords_list = doc.split(\" \")\n",
    "\n",
    "    # Length of this list is the total number of terms in doc\n",
    "    total_terms = len(allwords_list)\n",
    "\n",
    "    # Create a dictionary with terms as keys and occurrence count\n",
    "    occurrence_set = Counter(allwords_list)\n",
    "\n",
    "    return occurrence_set, total_terms\n",
    "\n",
    "for k in documents_translated.keys():\n",
    "    for doc in documents_translated[k]:\n",
    "        print(document_to_wordset(doc))\n",
    "    \n"
   ]
  },
  {
   "cell_type": "markdown",
   "metadata": {},
   "source": [
    "## 6. Concat the keywords with the original query\n",
    "\n",
    "Concatenate the keywords with the original query and search for documents in the original language\n"
   ]
  },
  {
   "cell_type": "markdown",
   "metadata": {},
   "source": [
    "## 7. Evaluation\n",
    "\n",
    "Evaluate the results of the search\n",
    "\n",
    "Reference:\n",
    "1. GitHub: [pyterrier/examples/notebooks\n",
    "/retrieval_and_evaluation.ipynb](https://github.com/terrier-org/pyterrier/blob/master/examples/notebooks/retrieval_and_evaluation.ipynb)\n",
    "1. GitHub: [pyterrier/examples/notebooks\n",
    "/experiment.ipynb](https://github.com/terrier-org/pyterrier/blob/master/examples/notebooks/experiment.ipynb)"
   ]
  },
  {
   "cell_type": "markdown",
   "metadata": {},
   "source": [
    "### 7.1 Precision / Recall\n",
    "\n",
    "See how many of the returned documents are relevant. Did the number of relevant documents increase?\n"
   ]
  },
  {
   "cell_type": "markdown",
   "metadata": {},
   "source": [
    "### 7.2 Keyword diversification\n",
    "\n",
    "Did the number of unique keywords increase compared to naive domain-specific keyword identification?\n"
   ]
  }
 ],
 "metadata": {
  "kernelspec": {
   "display_name": ".venv",
   "language": "python",
   "name": "python3"
  },
  "language_info": {
   "codemirror_mode": {
    "name": "ipython",
    "version": 3
   },
   "file_extension": ".py",
   "mimetype": "text/x-python",
   "name": "python",
   "nbconvert_exporter": "python",
   "pygments_lexer": "ipython3",
   "version": "3.10.2"
  }
 },
 "nbformat": 4,
 "nbformat_minor": 2
}
