{
 "cells": [
  {
   "cell_type": "markdown",
   "metadata": {},
   "source": [
    "# Final Project\n",
    "\n",
    "Libraries used:\n"
   ]
  },
  {
   "cell_type": "code",
   "execution_count": 2,
   "metadata": {},
   "outputs": [
    {
     "name": "stdout",
     "output_type": "stream",
     "text": [
      "Requirement already satisfied: numpy in ./.venv/lib/python3.10/site-packages (1.26.4)\n",
      "Requirement already satisfied: deep-translator in ./.venv/lib/python3.10/site-packages (1.11.4)\n",
      "Requirement already satisfied: python-dotenv in ./.venv/lib/python3.10/site-packages (1.0.1)\n",
      "Requirement already satisfied: python-terrier==0.10.0 in ./.venv/lib/python3.10/site-packages (0.10.0)\n",
      "Requirement already satisfied: pandas in ./.venv/lib/python3.10/site-packages (from python-terrier==0.10.0) (2.2.1)\n",
      "Requirement already satisfied: wget in ./.venv/lib/python3.10/site-packages (from python-terrier==0.10.0) (3.2)\n",
      "Requirement already satisfied: tqdm in ./.venv/lib/python3.10/site-packages (from python-terrier==0.10.0) (4.66.2)\n",
      "Requirement already satisfied: pyjnius>=1.4.2 in ./.venv/lib/python3.10/site-packages (from python-terrier==0.10.0) (1.6.1)\n",
      "Requirement already satisfied: matchpy in ./.venv/lib/python3.10/site-packages (from python-terrier==0.10.0) (0.5.5)\n",
      "Requirement already satisfied: scikit-learn in ./.venv/lib/python3.10/site-packages (from python-terrier==0.10.0) (1.4.1.post1)\n",
      "Requirement already satisfied: deprecated in ./.venv/lib/python3.10/site-packages (from python-terrier==0.10.0) (1.2.14)\n",
      "Requirement already satisfied: chest in ./.venv/lib/python3.10/site-packages (from python-terrier==0.10.0) (0.2.3)\n",
      "Requirement already satisfied: scipy in ./.venv/lib/python3.10/site-packages (from python-terrier==0.10.0) (1.12.0)\n",
      "Requirement already satisfied: requests in ./.venv/lib/python3.10/site-packages (from python-terrier==0.10.0) (2.31.0)\n",
      "Requirement already satisfied: joblib in ./.venv/lib/python3.10/site-packages (from python-terrier==0.10.0) (1.3.2)\n",
      "Requirement already satisfied: nptyping==1.4.4 in ./.venv/lib/python3.10/site-packages (from python-terrier==0.10.0) (1.4.4)\n",
      "Requirement already satisfied: more-itertools in ./.venv/lib/python3.10/site-packages (from python-terrier==0.10.0) (10.2.0)\n",
      "Requirement already satisfied: ir-datasets>=0.3.2 in ./.venv/lib/python3.10/site-packages (from python-terrier==0.10.0) (0.5.6)\n",
      "Requirement already satisfied: jinja2 in ./.venv/lib/python3.10/site-packages (from python-terrier==0.10.0) (3.1.3)\n",
      "Requirement already satisfied: statsmodels in ./.venv/lib/python3.10/site-packages (from python-terrier==0.10.0) (0.14.1)\n",
      "Requirement already satisfied: ir-measures>=0.3.1 in ./.venv/lib/python3.10/site-packages (from python-terrier==0.10.0) (0.3.3)\n",
      "Requirement already satisfied: dill in ./.venv/lib/python3.10/site-packages (from python-terrier==0.10.0) (0.3.8)\n",
      "Requirement already satisfied: pytrec-eval-terrier>=0.5.3 in ./.venv/lib/python3.10/site-packages (from python-terrier==0.10.0) (0.5.6)\n",
      "Requirement already satisfied: typish>=1.7.0 in ./.venv/lib/python3.10/site-packages (from nptyping==1.4.4->python-terrier==0.10.0) (1.9.3)\n",
      "Requirement already satisfied: beautifulsoup4<5.0.0,>=4.9.1 in ./.venv/lib/python3.10/site-packages (from deep-translator) (4.12.3)\n",
      "Requirement already satisfied: soupsieve>1.2 in ./.venv/lib/python3.10/site-packages (from beautifulsoup4<5.0.0,>=4.9.1->deep-translator) (2.5)\n",
      "Requirement already satisfied: inscriptis>=2.2.0 in ./.venv/lib/python3.10/site-packages (from ir-datasets>=0.3.2->python-terrier==0.10.0) (2.5.0)\n",
      "Requirement already satisfied: lxml>=4.5.2 in ./.venv/lib/python3.10/site-packages (from ir-datasets>=0.3.2->python-terrier==0.10.0) (5.1.0)\n",
      "Requirement already satisfied: pyyaml>=5.3.1 in ./.venv/lib/python3.10/site-packages (from ir-datasets>=0.3.2->python-terrier==0.10.0) (6.0.1)\n",
      "Requirement already satisfied: trec-car-tools>=2.5.4 in ./.venv/lib/python3.10/site-packages (from ir-datasets>=0.3.2->python-terrier==0.10.0) (2.6)\n",
      "Requirement already satisfied: lz4>=3.1.10 in ./.venv/lib/python3.10/site-packages (from ir-datasets>=0.3.2->python-terrier==0.10.0) (4.3.3)\n",
      "Requirement already satisfied: warc3-wet>=0.2.3 in ./.venv/lib/python3.10/site-packages (from ir-datasets>=0.3.2->python-terrier==0.10.0) (0.2.3)\n",
      "Requirement already satisfied: warc3-wet-clueweb09>=0.2.5 in ./.venv/lib/python3.10/site-packages (from ir-datasets>=0.3.2->python-terrier==0.10.0) (0.2.5)\n",
      "Requirement already satisfied: zlib-state>=0.1.3 in ./.venv/lib/python3.10/site-packages (from ir-datasets>=0.3.2->python-terrier==0.10.0) (0.1.6)\n",
      "Requirement already satisfied: ijson>=3.1.3 in ./.venv/lib/python3.10/site-packages (from ir-datasets>=0.3.2->python-terrier==0.10.0) (3.2.3)\n",
      "Requirement already satisfied: pyautocorpus>=0.1.1 in ./.venv/lib/python3.10/site-packages (from ir-datasets>=0.3.2->python-terrier==0.10.0) (0.1.12)\n",
      "Requirement already satisfied: unlzw3>=0.2.1 in ./.venv/lib/python3.10/site-packages (from ir-datasets>=0.3.2->python-terrier==0.10.0) (0.2.2)\n",
      "Requirement already satisfied: cwl-eval>=1.0.10 in ./.venv/lib/python3.10/site-packages (from ir-measures>=0.3.1->python-terrier==0.10.0) (1.0.12)\n",
      "Requirement already satisfied: charset-normalizer<4,>=2 in ./.venv/lib/python3.10/site-packages (from requests->python-terrier==0.10.0) (3.3.2)\n",
      "Requirement already satisfied: idna<4,>=2.5 in ./.venv/lib/python3.10/site-packages (from requests->python-terrier==0.10.0) (3.6)\n",
      "Requirement already satisfied: urllib3<3,>=1.21.1 in ./.venv/lib/python3.10/site-packages (from requests->python-terrier==0.10.0) (2.2.1)\n",
      "Requirement already satisfied: certifi>=2017.4.17 in ./.venv/lib/python3.10/site-packages (from requests->python-terrier==0.10.0) (2024.2.2)\n",
      "Requirement already satisfied: heapdict in ./.venv/lib/python3.10/site-packages (from chest->python-terrier==0.10.0) (1.0.1)\n",
      "Requirement already satisfied: wrapt<2,>=1.10 in ./.venv/lib/python3.10/site-packages (from deprecated->python-terrier==0.10.0) (1.16.0)\n",
      "Requirement already satisfied: MarkupSafe>=2.0 in ./.venv/lib/python3.10/site-packages (from jinja2->python-terrier==0.10.0) (2.1.5)\n",
      "Requirement already satisfied: multiset<3.0,>=2.0 in ./.venv/lib/python3.10/site-packages (from matchpy->python-terrier==0.10.0) (2.1.1)\n",
      "Requirement already satisfied: python-dateutil>=2.8.2 in ./.venv/lib/python3.10/site-packages (from pandas->python-terrier==0.10.0) (2.9.0.post0)\n",
      "Requirement already satisfied: pytz>=2020.1 in ./.venv/lib/python3.10/site-packages (from pandas->python-terrier==0.10.0) (2024.1)\n",
      "Requirement already satisfied: tzdata>=2022.7 in ./.venv/lib/python3.10/site-packages (from pandas->python-terrier==0.10.0) (2024.1)\n",
      "Requirement already satisfied: threadpoolctl>=2.0.0 in ./.venv/lib/python3.10/site-packages (from scikit-learn->python-terrier==0.10.0) (3.4.0)\n",
      "Requirement already satisfied: patsy>=0.5.4 in ./.venv/lib/python3.10/site-packages (from statsmodels->python-terrier==0.10.0) (0.5.6)\n",
      "Requirement already satisfied: packaging>=21.3 in ./.venv/lib/python3.10/site-packages (from statsmodels->python-terrier==0.10.0) (24.0)\n",
      "Requirement already satisfied: six in ./.venv/lib/python3.10/site-packages (from patsy>=0.5.4->statsmodels->python-terrier==0.10.0) (1.16.0)\n",
      "Requirement already satisfied: cbor>=1.0.0 in ./.venv/lib/python3.10/site-packages (from trec-car-tools>=2.5.4->ir-datasets>=0.3.2->python-terrier==0.10.0) (1.0.0)\n"
     ]
    }
   ],
   "source": [
    "! pip install numpy deep-translator python-dotenv python-terrier==0.10.0"
   ]
  },
  {
   "cell_type": "code",
   "execution_count": 3,
   "metadata": {},
   "outputs": [],
   "source": [
    "from dotenv import dotenv_values\n",
    "%load_ext dotenv\n",
    "%dotenv\n",
    "\n",
    "env = dotenv_values(\".env\")  # replace \".env.example\" with .env file path\n",
    "\n",
    "if (env[\"LANGUAGE_DETECT_API_KEY\"] == \"YOUR API KEY\"):\n",
    "  raise Exception(\"Please replace 'YOUR API KEY' with your actual API key in the .env file\")\n",
    "\n",
    "detection_api_key = env[\"LANGUAGE_DETECT_API_KEY\"]"
   ]
  },
  {
   "cell_type": "code",
   "execution_count": 4,
   "metadata": {},
   "outputs": [],
   "source": [
    "import os\n",
    "import re\n",
    "import threading\n",
    "\n",
    "import deep_translator as dt\n",
    "import numpy as np\n",
    "import pandas as pd\n",
    "import pyterrier as pt\n",
    "from deep_translator import GoogleTranslator, single_detection"
   ]
  },
  {
   "cell_type": "code",
   "execution_count": 5,
   "metadata": {},
   "outputs": [
    {
     "name": "stdout",
     "output_type": "stream",
     "text": [
      "numpy version: 1.26.4\n",
      "deep-translator version: 1.9.1\n",
      "pyterrier version: 0.10.0\n"
     ]
    }
   ],
   "source": [
    "print(\"numpy version:\", np.__version__)\n",
    "print(\"deep-translator version:\", dt.__version__)\n",
    "print(\"pyterrier version:\", pt.__version__)"
   ]
  },
  {
   "cell_type": "code",
   "execution_count": 6,
   "metadata": {},
   "outputs": [
    {
     "name": "stderr",
     "output_type": "stream",
     "text": [
      "PyTerrier 0.10.0 has loaded Terrier 5.8 (built by craigm on 2023-11-01 18:05) and terrier-helper 0.0.8\n",
      "\n",
      "No etc/terrier.properties, using terrier.default.properties for bootstrap configuration.\n"
     ]
    }
   ],
   "source": [
    "if not pt.started():\n",
    "    pt.init()"
   ]
  },
  {
   "cell_type": "markdown",
   "metadata": {},
   "source": [
    "## 0. Query formulation\n",
    "\n",
    "Let the end-user determine what they would like to find\n"
   ]
  },
  {
   "cell_type": "code",
   "execution_count": 7,
   "metadata": {},
   "outputs": [],
   "source": [
    "q0 = \"How do I repair my bike?\""
   ]
  },
  {
   "cell_type": "markdown",
   "metadata": {},
   "source": [
    "## 1. Query language identification\n",
    "\n",
    "Identify the language of the query with the help of the ... library\n"
   ]
  },
  {
   "cell_type": "code",
   "execution_count": 8,
   "metadata": {},
   "outputs": [
    {
     "name": "stdout",
     "output_type": "stream",
     "text": [
      "en\n"
     ]
    }
   ],
   "source": [
    "l0 = single_detection(q0, api_key=detection_api_key)\n",
    "print(l0)"
   ]
  },
  {
   "cell_type": "markdown",
   "metadata": {},
   "source": [
    "## 2. Query translation\n",
    "\n",
    "Translate the query into Dutch, English, French, German, Italian, Portuguese, Russian, Spanish, and Chineese. Exlude the original language of the query from the translation set.\n"
   ]
  },
  {
   "cell_type": "code",
   "execution_count": 9,
   "metadata": {},
   "outputs": [
    {
     "data": {
      "text/plain": [
       "{'en': 'How do I repair my bike?',\n",
       " 'fr': 'Comment réparer mon vélo ?',\n",
       " 'it': 'Come riparo la mia bicicletta?',\n",
       " 'es': '¿Cómo reparo mi bicicleta?'}"
      ]
     },
     "execution_count": 9,
     "metadata": {},
     "output_type": "execute_result"
    }
   ],
   "source": [
    "qs = dict({l0: q0})\n",
    "\n",
    "languages = [\"en\", \"fr\", \"it\", \"es\"]\n",
    "\n",
    "threads = []\n",
    "\n",
    "def translate(lang):\n",
    "    gt = GoogleTranslator(source=l0, target=lang)\n",
    "    translated = gt.translate(text=q0)\n",
    "    qs[lang] = translated\n",
    "\n",
    "\n",
    "for lang in languages:\n",
    "    if lang != l0:\n",
    "        t1 = threading.Thread(target=translate, args=(lang,))\n",
    "        t1.start()\n",
    "        threads.append(t1)\n",
    "\n",
    "for t in threads:\n",
    "    t.join()\n",
    "\n",
    "qs"
   ]
  },
  {
   "cell_type": "markdown",
   "metadata": {},
   "source": [
    "## 3. Search for documents in the target language\n",
    "\n",
    "Search for documents in the target language using the translated queries\n"
   ]
  },
  {
   "cell_type": "markdown",
   "metadata": {},
   "source": [
    "References:\n",
    "1. MLWIKIR: APython toolkit for building large-scale Wikipedia-based Information Retrieval Datasets in Chinese, English, French, Italian, Japanese, Spanish and more. [Research paper](https://www.irit.fr/CIRCLE/wp-content/uploads/2020/06/CIRCLE20_22.pdf)\n",
    "1. [pyterrier jupyter notebook example of spanish document retreival](https://github.com/terrier-org/pyterrier/blob/master/examples/notebooks/non_en_retrieval.ipynb)\n",
    "1. [WikIR rawa datasets](https://ir-datasets.com/wikir.html)"
   ]
  },
  {
   "cell_type": "markdown",
   "metadata": {},
   "source": [
    "### 3.1 Indexing of the documents\n",
    "If the index of the documents is not available, then the documents will be indexed using the pyterrier library.\n",
    "Otherwise, the index will be loaded from the disk."
   ]
  },
  {
   "cell_type": "code",
   "execution_count": 10,
   "metadata": {},
   "outputs": [],
   "source": [
    "def create_index(dataset: str, index_name: str, fields=[\"text\"]): \n",
    "    \"\"\"\n",
    "    Creates an index for a given dataset using the specified index name and fields.\n",
    "\n",
    "    Parameters:\n",
    "    - dataset: The dataset object containing the corpus to be indexed.\n",
    "    - index_name: The name of the index to be created.\n",
    "    - fields: A list of fields to be indexed. Default is [\"text\"].\n",
    "\n",
    "    Returns:\n",
    "    - index_ref: The reference to the created index.\n",
    "\n",
    "    \"\"\"\n",
    "    indexer = pt.IterDictIndexer(\"./indices/\" + index_name, verbose=False)\n",
    "    index_ref = indexer.index(dataset.get_corpus_iter(), fields=fields)\n",
    "    return index_ref\n",
    "\n",
    "\n",
    "def find_index(index_name: str):\n",
    "    \"\"\"\n",
    "    Finds the reference to an existing index with the specified name.\n",
    "\n",
    "    Parameters:\n",
    "    - index_name: The name of the index to be found.\n",
    "\n",
    "    Returns:\n",
    "    - index_ref: The reference to the found index.\n",
    "\n",
    "    \"\"\"\n",
    "    return pt.IndexRef.of(\"./indices/\" + index_name)"
   ]
  },
  {
   "cell_type": "code",
   "execution_count": 11,
   "metadata": {},
   "outputs": [
    {
     "name": "stdout",
     "output_type": "stream",
     "text": [
      "Index wikir_fr14k already exists\n",
      "Index wikir_es13k already exists\n",
      "Index wikir_en1k already exists\n",
      "Index wikir_it16k already exists\n",
      "{'fr': <org.terrier.querying.IndexRef at 0x1719cc090 jclass=org/terrier/querying/IndexRef jself=<LocalRef obj=0x137b6caf8 at 0x17fcee0f0>>, 'es': <org.terrier.querying.IndexRef at 0x17f7a06d0 jclass=org/terrier/querying/IndexRef jself=<LocalRef obj=0x137b6cb28 at 0x17fced330>>, 'en': <org.terrier.querying.IndexRef at 0x171a6b060 jclass=org/terrier/querying/IndexRef jself=<LocalRef obj=0x137b6cb40 at 0x17fceef70>>, 'it': <org.terrier.querying.IndexRef at 0x17f758f40 jclass=org/terrier/querying/IndexRef jself=<LocalRef obj=0x137b6cb48 at 0x17fced710>>}\n"
     ]
    }
   ],
   "source": [
    "datasetNames: dict[str, str] = dict({\"fr\":\"wikir/fr14k\", \"es\": \"wikir/es13k\", \"en\":\"wikir/en1k\", \"it\":\"wikir/it16k\"})\n",
    "datasets = dict()\n",
    "indeces = dict()\n",
    "\n",
    "def index(dataset: str, index_name: str, fields=[\"text\"]):\n",
    "    index_ref = create_index(dataset, index_name, fields)\n",
    "    indeces[lang] = index_ref\n",
    "\n",
    "index_threads = []\n",
    "\n",
    "for [lang, datasetName] in datasetNames.items():\n",
    "    datasetFolder = datasetName.replace(\"/\", \"_\")\n",
    "    dataset = pt.get_dataset(\"irds:\"+datasetName)\n",
    "    datasets[lang] = dataset\n",
    "\n",
    "    if os.path.exists(\"./indices/\" + datasetFolder + \"/data.properties\"):\n",
    "        print(\"Index\", datasetFolder, \"already exists\")\n",
    "        index_ref = find_index(datasetFolder)\n",
    "        indeces[lang] = index_ref\n",
    "    else:\n",
    "        print(\"Creating index\", datasetFolder, \" (takes around 1-3 minutes per dataset)\")\n",
    "        thread = threading.Thread(target=index, args=(dataset, datasetFolder))\n",
    "        thread.start()\n",
    "        index_threads.append(thread)\n",
    "\n",
    "for thread in index_threads:\n",
    "    thread.join()\n",
    "\n",
    "print(indeces)"
   ]
  },
  {
   "cell_type": "markdown",
   "metadata": {},
   "source": [
    "### 3.2 Retrieval of the documents\n",
    "The documents will be retrieved using the BM25 retrieval model."
   ]
  },
  {
   "cell_type": "code",
   "execution_count": 12,
   "metadata": {},
   "outputs": [
    {
     "data": {
      "text/plain": [
       "'Comment rparer mon vlo '"
      ]
     },
     "execution_count": 12,
     "metadata": {},
     "output_type": "execute_result"
    }
   ],
   "source": [
    "re.sub(r\"[^a-zA-Z0-9 ]\", \"\", qs['fr'])"
   ]
  },
  {
   "cell_type": "code",
   "execution_count": 13,
   "metadata": {},
   "outputs": [
    {
     "name": "stdout",
     "output_type": "stream",
     "text": [
      "Results for fr Index(['qid', 'docid', 'docno', 'rank', 'score', 'query', 'text'], dtype='object') - shape: (20, 7) top 5:\n"
     ]
    },
    {
     "data": {
      "text/html": [
       "<div>\n",
       "<style scoped>\n",
       "    .dataframe tbody tr th:only-of-type {\n",
       "        vertical-align: middle;\n",
       "    }\n",
       "\n",
       "    .dataframe tbody tr th {\n",
       "        vertical-align: top;\n",
       "    }\n",
       "\n",
       "    .dataframe thead th {\n",
       "        text-align: right;\n",
       "    }\n",
       "</style>\n",
       "<table border=\"1\" class=\"dataframe\">\n",
       "  <thead>\n",
       "    <tr style=\"text-align: right;\">\n",
       "      <th></th>\n",
       "      <th>qid</th>\n",
       "      <th>docid</th>\n",
       "      <th>docno</th>\n",
       "      <th>rank</th>\n",
       "      <th>score</th>\n",
       "      <th>query</th>\n",
       "      <th>text</th>\n",
       "    </tr>\n",
       "  </thead>\n",
       "  <tbody>\n",
       "    <tr>\n",
       "      <th>0</th>\n",
       "      <td>1</td>\n",
       "      <td>401968</td>\n",
       "      <td>403301</td>\n",
       "      <td>0</td>\n",
       "      <td>21.629457</td>\n",
       "      <td>Comment rparer mon vlo</td>\n",
       "      <td>elle est issue de la fusion en 1981 de l opéra...</td>\n",
       "    </tr>\n",
       "    <tr>\n",
       "      <th>1</th>\n",
       "      <td>1</td>\n",
       "      <td>485591</td>\n",
       "      <td>487240</td>\n",
       "      <td>1</td>\n",
       "      <td>21.287983</td>\n",
       "      <td>Comment rparer mon vlo</td>\n",
       "      <td>elle suit la guérison d un possédé muet et fai...</td>\n",
       "    </tr>\n",
       "    <tr>\n",
       "      <th>2</th>\n",
       "      <td>1</td>\n",
       "      <td>195615</td>\n",
       "      <td>196210</td>\n",
       "      <td>2</td>\n",
       "      <td>19.694506</td>\n",
       "      <td>Comment rparer mon vlo</td>\n",
       "      <td>pour saluer bien bas on fait acte de soumissio...</td>\n",
       "    </tr>\n",
       "    <tr>\n",
       "      <th>3</th>\n",
       "      <td>1</td>\n",
       "      <td>163481</td>\n",
       "      <td>164009</td>\n",
       "      <td>3</td>\n",
       "      <td>19.581240</td>\n",
       "      <td>Comment rparer mon vlo</td>\n",
       "      <td>l histoire raconte comment les personnages des...</td>\n",
       "    </tr>\n",
       "    <tr>\n",
       "      <th>4</th>\n",
       "      <td>1</td>\n",
       "      <td>129221</td>\n",
       "      <td>129661</td>\n",
       "      <td>4</td>\n",
       "      <td>19.424128</td>\n",
       "      <td>Comment rparer mon vlo</td>\n",
       "      <td>le dæmon serait donc en quelque sorte la manif...</td>\n",
       "    </tr>\n",
       "  </tbody>\n",
       "</table>\n",
       "</div>"
      ],
      "text/plain": [
       "  qid   docid   docno  rank      score                    query  \\\n",
       "0   1  401968  403301     0  21.629457  Comment rparer mon vlo    \n",
       "1   1  485591  487240     1  21.287983  Comment rparer mon vlo    \n",
       "2   1  195615  196210     2  19.694506  Comment rparer mon vlo    \n",
       "3   1  163481  164009     3  19.581240  Comment rparer mon vlo    \n",
       "4   1  129221  129661     4  19.424128  Comment rparer mon vlo    \n",
       "\n",
       "                                                text  \n",
       "0  elle est issue de la fusion en 1981 de l opéra...  \n",
       "1  elle suit la guérison d un possédé muet et fai...  \n",
       "2  pour saluer bien bas on fait acte de soumissio...  \n",
       "3  l histoire raconte comment les personnages des...  \n",
       "4  le dæmon serait donc en quelque sorte la manif...  "
      ]
     },
     "execution_count": 13,
     "metadata": {},
     "output_type": "execute_result"
    }
   ],
   "source": [
    "import re\n",
    "\n",
    "document_data: dict[str, pd.DataFrame] = dict()\n",
    "NUM_RESULTS = 20\n",
    "\n",
    "for lang in languages:\n",
    "    index_ref = indeces[lang]\n",
    "    dataset = datasets[lang]\n",
    "\n",
    "    pipeline = pt.BatchRetrieve(\n",
    "        index_ref, wmodel=\"BM25\", metadata=[\"docno\"], num_results=NUM_RESULTS\n",
    "    ) >> pt.text.get_text(dataset, \"text\")\n",
    "\n",
    "    sanitised_query = re.sub(r\"[^a-zA-Z0-9 ]\", \"\", qs[lang])\n",
    "\n",
    "    pandas_df: pd.DataFrame = pipeline.search(sanitised_query)\n",
    "    document_data[lang] = pandas_df\n",
    "\n",
    "print(\n",
    "    \"Results for fr\",\n",
    "    document_data[\"fr\"].keys(),\n",
    "    \"- shape:\",\n",
    "    document_data[\"fr\"].shape,\n",
    "    \"top 5:\"\n",
    ")\n",
    "\n",
    "document_data[\"fr\"].head()"
   ]
  },
  {
   "cell_type": "code",
   "execution_count": 14,
   "metadata": {},
   "outputs": [
    {
     "name": "stdout",
     "output_type": "stream",
     "text": [
      "Words in document: 200\n"
     ]
    }
   ],
   "source": [
    "top_document = document_data[\"fr\"].head(1)[\"text\"].values[0]\n",
    "\n",
    "print(\"Words in document:\", len(top_document.split(\" \")))"
   ]
  },
  {
   "cell_type": "markdown",
   "metadata": {},
   "source": [
    "## 4. Document translation\n",
    "\n",
    "Translate the documents back to English to be processed by other algorithms\n"
   ]
  },
  {
   "cell_type": "code",
   "execution_count": 19,
   "metadata": {},
   "outputs": [],
   "source": [
    "documents_translated: list[str] = []\n",
    "\n",
    "def translate_document(document_text: str, gt: GoogleTranslator):\n",
    "    translated = gt.translate(text=document_text)\n",
    "    documents_translated.append(translated)\n",
    "\n",
    "threads = []\n",
    "\n",
    "for lang, docs in document_data.items():\n",
    "    text_docs = docs[\"text\"].tolist()\n",
    "    gt = GoogleTranslator(source=lang, target=\"en\")\n",
    "\n",
    "    for text in text_docs:\n",
    "        t = threading.Thread(target=translate_document, args=(text, gt))\n",
    "        t.start()\n",
    "        threads.append(t)\n",
    "\n",
    "for t in threads:\n",
    "    t.join()"
   ]
  },
  {
   "cell_type": "code",
   "execution_count": 20,
   "metadata": {},
   "outputs": [
    {
     "data": {
      "text/plain": [
       "['in recent years the co operative has grown to be arguably the dominant bicycle retailer in scotland with the largest bicycle stores in each respective city the business offers products from many leadings brands including specialized whyte brompton kalkhoff frog and giant the longest established of all edinburgh bicycle cooperative stores is the bruntsfield bike shop to be found in a victorian building on whitehouse loan skirted by the meadows cyclepath and overlooking the bruntsfield links since its opening in 1979 the bruntsfield shop has grown in size and reputation winning the coveted best bike shop in the uk award in 2017 by cycling weekly along with a comprehensive retail offering of bikes accessories clothing and components the bruntsfield shop also offers bike repairs and servicing the canonmills store in edinburgh is found on rodney street edinburgh the bike shop became an edinburgh bicycle cooperative store in 2013 previously it traded as city cycles and then the bike chain in addition to its retail offering of bicycles accessories clothing and components the canonmills shop also offers bike repairs and servicing the aberdeen shop on george street was the top voted bike shop in aberdeen by cycling weekly in 2017 trading',\n",
       " 'it encompasses two retail locations shops the annex specializing in new and used bike sales and the repair shop specializing in used bike parts citybikes was founded by roger noehren as a sole proprietorship in 1986 in the current repair shop building he hired tim calvert in august 1989 to transform citybikes into a worker owned cooperative w o rn which came into being in january 1990 business continued to grow and in 1995 citybikes expanded to the annex building instigated by rn who returned in 1994 at this time citybikes began to sell a higher volume of used bikes and also to carry new bikes the annex space was further remodeled expanded in 2002 and the repair shop was remodeled to double the retail space in 2008 citybikes has grown from a fledgling enterprise to a successful cooperatively run business employing about 20 people in winter and 25 in summer citybikes operates with consensus based decision making the majority of decisions that affect the cooperative are made in bimonthly general meetings with all workers present having equal say and voting power day to day operations are also carried out by consensus citybikes does not have any managers or traditional',\n",
       " 'more than 3 000 bicycles were recovered in police raids kenk pleaded guilty to sixteen criminal code charges of theft on 15 december 2009 at old city hall court he was dubbed the world s most prolific bike thief igor kenk was born on 7 april 1959 in maribor a city in slovenia in slovenia he was a police officer in february 1988 kenk moved to toronto ontario in canada kenk was long known for operating the bicycle clinic a bike repair shop on queen st w toronto ontario in may 1993 kenk was charged with the criminal code offence of possession of stolen property the toronto police service confiscated 140 bikes but the charges were later dismissed the toronto police service 14th division raided the bicycle clinic on 16 july 2008 however the toronto fire department blocked the police from entering the building for safety reasons a fire department rescue squad had to remove the upper floor windows and lower the bicycles by rope because the queen west store was crammed with bicycles and bike parts a police sting uncovered 2 865 bikes in garages and warehouses throughout the city the 50 year old repair man was hit with',\n",
       " 'mountain bikes share similarities with other bikes but incorporate features designed to enhance durability and performance in rough terrain mountain biking can generally be broken down into multiple categories cross country trail riding all mountain also referred to as enduro downhill freeride and dirt jumping this sport requires endurance core strength and balance bike handling skills and self reliance advanced riders pursue both steep technical descents and high incline climbs in the case of freeride downhill and dirt jumping aerial maneuvers are performed off both natural features and specially constructed jumps and ramps mountain bikers ride on off road trails such as singletrack back country roads wider bike park trails fire roads and some advanced trails are designed with jumps berms and drop off to add excitement to the trail riders with enduro and downhill bikes will often visit ski resorts that stay open in the summer to ride downhill specific trails using the ski lifts to return to the top with their bikes because riders are often far from civilization there is a strong ethic of self reliance in the sport riders learn to repair broken bikes and flat tires to avoid being stranded many riders carry a backpack',\n",
       " 'it is located on the former site of cannop colliery in the cannop valley forest of dean gloucestershire the nearest village is parkend away the cycle centre pedalabikeaway has been an active supporter of the hands off our forest campaign and hosted a cycle protest rally in january 2011 in 2012 work was completed on a 100 000 redevelopment of the centre culminating in the opening of a new cycle bridge use of the visitor centre and trails is completely free there is a charge for car parking and some facilities such as use of the bike wash facilities include operated by pedalabikeaway the visitor centre comprises a caf bike shop bike hire bike repair workshop showers toilets bike wash and compressed air open all year operated by flyup downhill mini bus and purpose built trailer transport riders to the top of the downhill runs open all year three main waymarked trails start and finish at the cycle centre a all weather loop designed built and maintained by volunteers in partnership with the forestry commission this is a challenging and varied single track with several tricky switchback climbs rooty drops and hairpin bends the trail is graded red on the',\n",
       " 'the expression distinguishes small bicycle shops from large chains and mail order or online vendors is abbreviated lbs in the uk and ireland the expression independent bicycle dealers ibds is also used the local bike shop is a key component of the bicycle industry and in recognition of the value that local bike shops provide some manufacturers only sell their bicycles through dealerships beyond bicycles a local bicycle shop may offer clothing and other accessories spare and replacement parts tools and a variety of services services may include expert fitting and custom bike building or ordering maintenance and repairs from experienced bicycle mechanics and organized group rides and classes a self service work area may be available shops may also specialize on one or more aspects of cycling bicycle racing triathlon bicycle touring bmx mountain biking etc similarly shops may carry a diverse range of bicycles from single seat upright bikes to more specialized types such as tandem bicycles recumbent bicycles folding bicycles many shops also carry related items such as unicycles and skateboards shops located out of temperate climates may have a secondary line in order to keep busy in the off season winter these include goods and services',\n",
       " 'it produces neo traditional family fashion bean pole men bean pole ladies and bean pole kids as well as accessories bean pole accessory golf wear bean pole golf and outdoors fashion equipment bean pole outdoor towards the end of 2012 they added the bike repair shop to their list of sub brands since 1989 bean pole s fusion of traditional and contemporary british fashion culture has led it to become a top brand in south korea with three design departments located in korea the united states of america and italy in the past decade they have gradually expanded internationally with the majority of its shops located in asia in addition all of their flagship shops are located in south korea myeongdong gangnam doonsan dongseongro gwangbok and the bike repair shop in hongdae since its establishment bean pole has adjusted its logo making minor changes since the original the logo is a depiction of a man riding a penny farthing bicycle which represents the brand s image a dedication to rise to new challenges and pursue creativity furthermore the logo is to emphasize the british like style that they aim for in 2010 cheil industries paired with ideo an international design',\n",
       " 'the name atk comes from leitner s 1981 patented device to eliminate chain torque for improved handling known later as the a trax leitner originally called the device the anti tension kettenantrieb as of 5 20 2011 atk has associated itself with s t motors parent company of the changwon south korea based hyosung s t hyosung will make motorcycles with atk nameplates and a few requested changes to the standard hyosung motorcycles both supersport and cruiser models from 250 to 700cc engine sizes all have v twin engines beginning in early 2009 atk offered a 700 cc two stroke motocross bike available in limited quantities atk is now mostly marketing their parts and services to repair older atk models in january 2003 cannondale motorsports filed bankruptcy and atk motorcycles acquired all remaining cannondale motorsports inventory the intimidator is a monster dirt bike powered by a maico two stroke engine as of june 2008 only maico itself has a machine comparable to this because the intimidator is the same bike with different badging atk also has a line of atvs that use a 900cc efi engine',\n",
       " 'focused primarily on new york city feeder communities this tool he named zenoradio recruited its first users who were new residents hailing from san jose de las matas dominican republic san fernando trinidad and tobago and governador valadares minas gerais brazil herzfeld set up alternative voice over ip routes in these immigrant hometowns to keep families affordably linked between their old and new lives today these connections extend to more than 25 countries from china cambodia nigeria and congo to nicaragua haiti brazil and the dominican republic herzfeld is the former owner of traif bike geschaft a bicycle repair shop in williamsburg brooklyn he lent 500 used bicycles he had purchased from japan to the satmar hasidim free of charge in an attempt to alleviate neighborhood tension between the burgeoning hipster community and the long time hasidic jewish community herzfeld purchased 40 used mobile home trailers to store the bikes resulting in what was brooklyn s first and only trailer park a trailer park full of bikes and no one to ride them then inspired his personal mission to supply the local williamsburg brooklyn community of hasidic jews with wheels to ride around the neighborhood emerging as a cultural disruptor',\n",
       " 'the film was produced by hal wallis and directed by john rich from a screenplay by anthony lawrence and allan weiss the screenplay was nominated for a writers guild of america award for best written american musical although roustabout received a lukewarm review in variety the film s soundtrack album was one of elvis presley s most successful reaching no 1 on the billboard album chart it was filmed at paramount studios with location for carnival sequences shot in thousand oaks california filming began in january 1964 musician charlie rogers is fired from a job at a teahouse after brawling with several college students in the parking lot after a night in jail charlie hits the road on his honda 305 superhawk motorcycle he spots cathy lean driving with her father joe and their employer maggie morgan when charlie tries to become friendly with cathy joe forces him off the road and the bike is wrecked after crashing into a wooden fence maggie offers him a place to stay and a job with her struggling traveling carnival while the bike is being repaired charlie becomes a carnie a roustabout maggie recognizes his musical talents and promotes him to feature attraction',\n",
       " 'the bike is the first specifically designed farm bike in the world callender born about 1928 was passionate about motorcycles he bought his first when he was 15 three years later he was racing motorcycles in club events at oakura and became one of the founding members of the new plymouth motor cycle club around this time he became a motorcycle mechanic in 1951 callender began a successful career as a midget car driver winning a number of events he built his own three quarter midget number 62 after an accident in 1956 callender stopped midget car racing but continued sponsoring other drivers he also began making go karts under the kalkart brand in 1957 callender imported a jbs 500 formula 3 race car he raced it in the new zealand grand prix at ardmore 1958 to 1961 as well as races levin and ohakea callender became president of the north taranaki motorcycle club and held senior positions at the new plymouth speedway club and the auto cycle union he ran events and also did announcing in 1957 callender started a motorcycle repair business called callender motorcycles this in turn led to him making the mountain goat to meet the',\n",
       " 'lake shore drive is cleared of motor vehicle traffic and opened exclusively to bicyclists for several hours beginning at dawn the event benefits bicycling advocacy work in the region by the active transportation alliance formerly known as the chicagoland bicycle federation since 2004 bike the drive has been held on the sunday of memorial day weekend in 2006 an estimated 20 000 riders participated in the event the event is sponsored by fifth third bank and branded as fifth third bike the drive it was previously sponsored by mb financial bank from 2010 2018 and prior to 2010 was sponsored by bank of america the route extends nearly the entire length of the famous roadway from 57th street on the south side to bryn mawr avenue on the north side the maximum route length is with riders beginning at grant park going to the south and north extremes and then returning to the starting point rest areas with refreshments and repair services are located at the north and south ends of the route as well as the starting point in addition volunteers riding with the participants and stationed along the route offer assistance to riders a festival in grant park',\n",
       " 'mcgrath state beach is one of the best bird watching areas in california with the lush riverbanks of the santa clara river and sand dunes along the shore a nature trail leads to the santa clara estuary natural preserve camping sites are available two miles of beach provide surfing and fishing opportunities just south of the station is the undeveloped mandalay beach park which is about a mile downcoast beach walk from the park or a bike ride along harbor blvd located south of ventura on harbor boulevard the beach is on the pacific coast bicycle route and the california coastal trail the park overlies the productive west montalvo oil field and oil wells are in an enclosure just behind the beach and slant drill into the offshore part of the field a bit farther downcoast is the mandalay generating station the stack is easily visible from the beach owned by reliant energy the park often closes in winter but a lack of funding to repair the infrastructure specifically a rusting sewage pipe closed the park in 2011 until repairs could be made flooding has been a continuing problem the water level in the estuary rises when the winter rains',\n",
       " 'the name is an acronym that translates from french to handmade bicycle frames cy represents cycle bicycle f for fabriqu made a for artisanal artisan and the final c stands for cadres frame the cyfac postural system is a bicycle fitting system based on research at lyon center of sports medicine founded in 1983 by francis quillon cyfac began in his garage with the help of his wife mireille quillon was a successful amateur racer a sprinter for the national team during his racing career he worked for one of his team s sponsors a local bicycle manufacturer quillon repaired his teammates bikes started making bikes from scratch and eventually started to equip pro racers who wanted frames made and then painted in their sponsor s name quillon opened the cyfac workshop to supply frames to racing teams the company was sold to jose alvarez a now defunct french distributor for specialized look easton and bmc bicycles in 2008 ownership changed with the managing director aymeric le brun and the us distributor eric sakalowsky buying the company from the original owner quillon is honorary president cyfac manufactures all frames in la fuye including cutting welding painting and finishing tubing is',\n",
       " 'other terms include wreck yard wrecker s yard salvage yard breakers yard dismantler and scrapheap in the united kingdom car salvage yards are known as car breakers while motorcycle salvage yards are known as bike breakers in australia they are often referred to as wreckers the most common type of wreck yards are automobile wreck yards but junkyards for motorcycles bicycles small airplanes and boats or trains exist too a scrapyard is a recycling center that buys and sells scrap metal scrapyards are effectively a scrap metal brokerage scrap yards typically buy any base metal for example iron steel stainless steel brass copper aluminum zinc nickel and lead would all be found at a modern day scrapyard scrapyards will often buy electronics appliances and metal vehicles scrapyards will sell their accumulations of metals either to refineries or larger scrap brokers metal theft is committed so thieves can sell stolen copper or other stolen valuable metals to scrapyards many salvage yards operate on a local level when an automobile is severely damaged has malfunctioned beyond repair or not worth the repair the owner may sell it to a junkyard in some cases as when the car has become disabled in a',\n",
       " 'it carries laurier avenue over the rideau canal and also colonel by drive and queen elizabeth driveway the green steel arches makes the bridge one of the most recognizable in ottawa many of the events of winterlude are held around the bridge and it is a common background to pictures of skaters on the canal the southern entrance to the department of national defence headquarters is located on the eastern portion of the bridge the first bridge in the location was constructed in 1872 the current four lane bridge was originally built in 1900 and it was extended to the west in 1945 it was originally operated by the national capital commission but in 1996 it and the mackenzie king bridge were handed over to the city as the ncc did not have enough money for needed maintenance in 2001 the bridge was expanded and repaired the top surface was expanded by 50 allowing wider lanes dedicated bike paths and much wider sidewalks the area around the bridge was also beautified with landscaping and new stairs connecting to the bridge',\n",
       " 'the bikes are designed in italy engineered in colorado and shipped direct to the consumer through giantnerd com tommaso bicycles was founded in 1985 as a road bike brand the direct bicycle importer ten speed drive of california commissioned the original tommaso frames to be built in italy and then shipped over to the usa unpainted they used the highest quality lugged columbus cro moly steel tubing frames these raw frames were painted in a two toned paint design and delivered to the bikes shops ready to build original color choice was either blue and white fade or pink and white fade since then the brand has expanded to include track bikes fixed gear bikes triathlon bikes and cyclocross bikes tommaso bicycles had a line of steel road bicycles that expanded to titanium and currently consists of aluminum and carbon road bikes in 2013 the core of the road line is the six aluminum road bike offerings paired up with six carbon road bikes tommaso offers three woman specific models the tommaso line up also includes an aluminum cyclocross bike and two triathlon bikes one aluminum and one monocoque carbon in 2013 the tommaso brand was sold to an investment',\n",
       " 'launched in 1995 with 1 000 cycles the project was the world s first organized large scale urban bike sharing scheme which unlike its dutch predecessor featured what are now considered basic elements such as coin deposit fixed stands and specially designed bikes with parts that cannot be used on other bikes riders paid a refundable deposit at one of 110 special bike stands and had unlimited use of a bike within the specified downtown area the scheme was funded by commercial sponsors in return the bikes carried advertisements which appeared on the bike frame and the solid disk type wheels when the programme was abolished in october 2012 some 1 500 1 700 bikes were still in service out of a total of 2 500 put onto the streets following the first generation bike sharing scheme from amsterdam in the 60s the first second generation bike sharing system was introduced in 1991 in fars even though it was a small scale scheme it paved the way for the copenhagen city bike scheme where the original idea behind the scheme was to reduce the theft of bicycles in the city by offering specially designed units for free public use based',\n",
       " 'the bike frames themselves are also modified with bmx frames heightened seats or custom pieces to create unique bicycles scraper bikes are an offshoot of the 90 s era scraper culture of car modification a scraper bike is a piece of art every artist builds up their bike from scratch using different material different colors to customize it to fit the artist inside baybe champ 2016 scraper bikes gained notoriety in 2007 due to the youtube music video scraper bikes by trunk boiz the original scraper bike team was founded by tyrone baybe champ stevenson jr aka scraper bike king in 2006 in oakland california stevenson views the scraper bike movement as a way for local youth to stay active and avoid getting caught up in crime or violence he wants scraper bikes to be a positive alternative to the struggles which defined his troubled upbringing in 2010 stevenson was profiled in a mini documentary scrapertown which was part of a larger series of documentaries called california is a place created by drea cooper and zackary canepari in the documentary stevenson claims to have founded the scraper bike movement and says about the practice in 2011 stevenson received a national',\n",
       " 'this was the 13th episode for the seventh season it aired on february 1 1996 elaine strains her neck trying to get a bike down from the wall in a toy store in pain she impulsively claims that she would give up the bike to whoever fixes her neck when kramer gives her a treatment that makes her feel better he demands the bike despite it being a girl s bike elaine reluctantly allows him to have it but the next day her neck pain soon returns worse than ever kramer said she should have slept on a board so she demands the bike back the pair decide to have a neutral third party newman decide who should keep the bike he declares that they should cut the bike in half so elaine and kramer can both have it elaine thinks the idea is ridiculous but hesitantly agrees whereas kramer tells newman to give the bike to elaine saying he would rather it belong to her than see it destroyed much to elaine s outrage this leads newman to decree the bike should be kramer s meanwhile kramer starts a system where he writes down what he takes from jerry',\n",
       " \"during her stay she produced a multimedia production eight songs for a mad king by peter maxwell davies and directed the play by eugène ionesco the lesson she continued her work at the komische oper berlin at the staatsoper stuttgart at the german national theater in weimar she created in 2009 simultaneously der bajazzo by ruggero leoncavallo and turandot by ferruccio busoni her work is praised by the press her numerous creations take place mainly in germany and austria but also in the united states she talks about her general approach i must succeed in making my plausible idea to musicians and singers I was a singer I don't play against the singers but with them I always make sure that they can breathe well I think vocally jean luc clairet comments on the creation the rake s progress in basel in 2018 marie aude roux comments in the newspaper Le Monde on the creation of the magic flute at the Salzburg festival\",\n",
       " '161 to 174 published in 1978 the collection was reissued in 1987 the short story was also published the short story was adapted into a television series Arthur Ranget while he is in the street in New York is projected into another dimension of space and time and finds himself facing a demon, this one, whose name is Nelzebub, has formulated a magical incantation which has the power to make himself appear before him, any human Nelzebub orders Arthur to bring him five tons of schpok, failing which the demon will transfer Arthur into a bottle that he will never be able to leave Arthur asks him what schpok is and at the unclear explanation that Neelzebub gives him Arthur thinks that it is gold without being certain, the demon sends him back to earth Arthur asks how to act assuming that the schpok is gold or any other rare and precious metal he is absolutely incapable of fulfilling his mission he must therefore act by trickery he buys alchemy treatises and suitable accessories in order to practice the',\n",
       " 'the dæmon would therefore be in a way the physical manifestation of the soul of a human many characteristics of dæmons agree with certain concepts of psychology or anthropology in other worlds like ours according to the book the dæmons are invisible but nevertheless exist to try to to see it you have to open your mind and it will appear the dæmon of a child is an animal but it does not have a definitive form and changes at will according to the circumstances but at puberty of the child the dæmon takes a definitive form which reflects the personality of the person the dæmon is generally of the opposite sex to that of his human however in certain cases the dæmon is of the same sex as his human which is interpreted by many readers as a sign of the homosexuality of this character philip pullman indicates that he did not have this intention but that it is possible just as it could indicate a gift of double vision he says in an interview it is also never explained at any point in the book how dæmons are born and in what form to touch the dæmon',\n",
       " 'it follows the healing of a mute possessed man and alludes to the devil Jesus having healed a demoniac a mute possessed man the Pharisees suspect him of casting out demons by the prince of demons to their accusations Jesus replies that it is from God quite the contrary that he holds his healing power in support of his reasoning he produces the parable of the strong man the Pharisees having heard this said this man only casts out demons by Beelzebub prince of demons 25 as Jesus knew their thoughts he told them every kingdom divided against himself is devastated and every city or house divided against itself cannot stand 26 if satan drives out satan he is divided against himself how then will his kingdom stand 27 and if I drive out demons by beelzebub your sons by whom they drive them out therefore they themselves will be your judges 28 but if it is by the Spirit of God that I cast out demons then the kingdom of God has come to you 29 or how can anyone enter the house of a strong man and plunder',\n",
       " \"it is a concept album dedicated to the bicycle goodbike is the result of a long and in-depth path of artistic investigation involving a musical reading a theater show a novel about the bicycle the recyclists aedicle signed by the singer andrea satta the creation of a festival and of course the exploration of reality and places that revolve around the reality of the bicycle the album is composed of index tracks including six unreleased songs plus an extra tribute divided between the epic of cycling alfonsina and the bike le bal des cols coppi the cyclist's song the exploration and the social commitment we are the corrosive traffic acid the bicycle trumpet the childish dimension of the game come on and love the bicycle my dear miss the album sees the participation among others of militants in frontal assaults in alfonsina and the bike of karisa kahindi the Kenyan singer and actor of journalists Gianni Mura who also signs the text of Le Bal des Cols by Claudio Ferretti Marco Pastonesi La Gazzetta dello Sport Alessandra de Stefano Rai Sport and Maurizio Crosetti La Repubblica and Sergio Staino with some of his cartoons in the booklet of the CD Alfonsina e la bici\",\n",
       " \"She writes mainly children's books but also historical books and poetry Weatherford has written several articles attacking what she identifies as stereotypical caricatures of black people in East Asian popular culture, two of the most important being cartoon-oriented children's anime and another targeting the name of a brand of toothpaste in January 2000 Weatherford wrote an editorial for the Alabama newspapers in Pokémon Politically Incorrect She explained how she believed that Pokémon 124 Lippoutou was a negative stereotype of African Americans the character of lippoutou pokemon 124 has decidedly human features unlike most other characters jet black skin pink lips huge gaping eyes blonde mane and full figure cleavage and wavy hips in other words lippoutou looks like an incarnation of drag queen in overweight little black sambo a racist stereotype taken from a children's book long since emptied from libraries in response to controversy lippoutou's game sprites were given a purple color in the American versions of Pokémon Gold and Silver released in late 2000 in 2002 Nintendo\",\n",
       " 'the dæmon would therefore be in a way the physical manifestation of the soul of a human many characteristics of dæmons agree with certain concepts of psychology or anthropology in other worlds like ours according to the book the dæmons are invisible but nevertheless exist to try to to see it you have to open your mind and it will appear the dæmon of a child is an animal but it does not have a definitive form and changes at will according to the circumstances but at puberty of the child the dæmon takes a definitive form which reflects the personality of the person the dæmon is generally of the opposite sex to that of his human however in certain cases the dæmon is of the same sex as his human which is interpreted by many readers as a sign of the homosexuality of this character philip pullman indicates that he did not have this intention but that it is possible just as it could indicate a gift of double vision he says in an interview it is also never explained at any point in the book how dæmons are born and in what form to touch the dæmon',\n",
       " \"during her stay she produced a multimedia production eight songs for a mad king by peter maxwell davies and directed the play by eugène ionesco the lesson she continued her work at the komische oper berlin at the staatsoper stuttgart at the german national theater in weimar she created in 2009 simultaneously der bajazzo by ruggero leoncavallo and turandot by ferruccio busoni her work is praised by the press her numerous creations take place mainly in germany and austria but also in the united states she talks about her general approach i must succeed in making my plausible idea to musicians and singers I was a singer I don't play against the singers but with them I always make sure that they can breathe well I think vocally jean luc clairet comments on the creation the rake s progress in basel in 2018 marie aude roux comments in the newspaper Le Monde on the creation of the magic flute at the Salzburg festival\",\n",
       " \"She writes mainly children's books but also historical books and poetry Weatherford has written several articles attacking what she identifies as stereotypical caricatures of black people in East Asian popular culture, two of the most important being cartoon-oriented children's anime and another targeting the name of a brand of toothpaste in January 2000 Weatherford wrote an editorial for the Alabama newspapers in Pokémon Politically Incorrect She explained how she believed that Pokémon 124 Lippoutou was a negative stereotype of African Americans the character of lippoutou pokemon 124 has decidedly human features unlike most other characters jet black skin pink lips huge gaping eyes blonde mane and full figure cleavage and wavy hips in other words lippoutou looks like an incarnation of drag queen in overweight little black sambo a racist stereotype taken from a children's book long since emptied from libraries in response to controversy lippoutou's game sprites were given a purple color in the American versions of Pokémon Gold and Silver released in late 2000 in 2002 Nintendo\",\n",
       " 'it is cited in three gospels the messiah wishes to heal the sick so that they can hear the good news gospel of jesus christ according to saint matthew chapter 12 verses 22 to 28 then they brought him a blind and mute demoniac and he healed him so that the mute spoke and saw the whole crowd astonished said is this not the son of David the Pharisees having heard this said this man only casts out demons by Beelzebub prince of demons as Jesus knew their thoughts he told them all kingdom divided against himself is devastated and any city or house divided against itself cannot survive if satan chases out satan it is divided against itself how then will his kingdom survive and if I cast out the demons by beelzebub your sons by whom they cast them out that is why they themselves will be your judges but if it is by the spirit of God that I cast out demons the kingdom of God has therefore come to you translation from the Bible Louis Segond Jesus restores two lost senses to a man by this miracle it is for',\n",
       " 'fourth generation he has colossal strength so much so that one day regigigas would have dragged the continents with ropes to connect them together he is the master of the three golems regirock regice and registeel but no one knows how they communicate with each other regigigas would have created these pokemon in his image from the ice of the rock and the magma regigigas is a gigantic white golem with numerous yellow appendages as well as a collar and green attire he has powerful robotic arms and hands as well as three pearls symbolizing the three golems of either side of its central yellow appendage regigigas is a normal type pokemon it has the special ability calm start reducing the attack and speed statistics by half during the first 5 turns of a fight regigigas appears in the pokemon video game series first in Japanese then translated into several other languages \\u200b\\u200bthese games have sold more than 200 million copies around the world on pokémon diamond and pearl to meet regigigas you must transfer regice regirock and registeel from pokémon ruby \\u200b\\u200bsapphire or emerald it is at',\n",
       " 'fourth generation he has colossal strength so much so that one day regigigas would have dragged the continents with ropes to connect them together he is the master of the three golems regirock regice and registeel but no one knows how they communicate with each other regigigas would have created these pokemon in his image from the ice of the rock and the magma regigigas is a gigantic white golem with numerous yellow appendages as well as a collar and green attire he has powerful robotic arms and hands as well as three pearls symbolizing the three golems of either side of its central yellow appendage regigigas is a normal type pokemon it has the special ability calm start reducing the attack and speed statistics by half during the first 5 turns of a fight regigigas appears in the pokemon video game series first in Japanese then translated into several other languages \\u200b\\u200bthese games have sold more than 200 million copies around the world on pokémon diamond and pearl to meet regigigas you must transfer regice regirock and registeel from pokémon ruby \\u200b\\u200bsapphire or emerald it is at',\n",
       " 'The photograph or video does not correspond to an entire scene in one instant of time, but rather the shutter quickly scans it vertically or horizontally. In other words, not all parts of the scene are recorded at exactly the same moment, but the final image is displayed. as if it represented a single instant of time this produces distortions in objects with rapid movements or with certain light effects this phenomenon does not happen in other devices such as the global shutter where the entire image is captured at the same instant the rolling shutter can be mechanical or electronic The advantage of this method is that the image sensor can continue capturing photons during the acquisition process, thus increasing the sensitivity of the image. This capture method occurs in photographic and video cameras that use CMOS sensors and is more evident in conditions extremes of motion or light there are some cases of cmos that use the global shutter but in the market the majority contain the rolling shutter one of the alternatives to the cmos sensors is the ccd or charge coupled device, generally more sensitive and more expensive cameras.',\n",
       " 'then she participates in a fatal 4 way which includes alicia fox wesley holiday and rosa mendes but she loses and is pinned by alicia fox on 8 February she wins against wesley holiday for the queen of fcw tournament but however a week later she loses against alicia fox and is eliminated from the tournament on May 10th wins a tag match with Angela against Alicia Fox and Katie Lea Burchill on August 16th loses a 3 on 2 handicap match paired with Angela against Rosa Mendes Alicia Fox and Candy Girl on September 13th takes part in a fatal 4 way which includes serena mancini alicia fox and april lee but fails to win on october 25th loses to mia mancini in a match with no titles on the line on march 14th loses again to mia mancini on june 10th 2008 in ecw taryn makes her debut under the name tiffany as assistant general manager theodore long tiffany entered the divas halloween costume contest on october 26 on cyber sunday dressing up as a nun tiffany made her in ring debut in a 16 diva tag team match in the 800 episode of raw teaming up with mickie',\n",
       " 'the dæmon would therefore be in a way the physical manifestation of the soul of a human many characteristics of dæmons agree with certain concepts of psychology or anthropology in other worlds like ours according to the book the dæmons are invisible but nevertheless exist to try to to see it you have to open your mind and it will appear the dæmon of a child is an animal but it does not have a definitive form and changes at will according to the circumstances but at puberty of the child the dæmon takes a definitive form which reflects the personality of the person the dæmon is generally of the opposite sex to that of his human however in certain cases the dæmon is of the same sex as his human which is interpreted by many readers as a sign of the homosexuality of this character philip pullman indicates that he did not have this intention but that it is possible just as it could indicate a gift of double vision he says in an interview it is also never explained at any point in the book how dæmons are born and in what form to touch the dæmon',\n",
       " \"in 1997 astral weeks was positioned at number 9 in the ranking of the best albums of all time according to the music of the millennium survey conducted by hmv channel 4 the guardian and classic fm was among many the most important album to date in my life stranded 1979 for the legendary rock critic lester bangs the album I listened to the most in my life my favorite record of all time listen to van morrison and writings 1968 2010 for another icon of music journalism like greil marcus for dave marsh there is astral weeks and then there are all the other albums slkelly org and my classic for the director wim wenders almost every human being on this planet should know the greatest album of all time deutschlandradio daybyday press article4044 2012 astral weeks has been defined as the greatest album deified in the history of popular music great rock discography astral weeks was released a year after van morrison's first album blowin your mind thanks to this second album van morrison received great critical acclaim as album of the year for rolling stone and one of the albums of the year for\",\n",
       " 'Having asked him about my publication it was not possible for me to obtain from the modesty of this esteemed cellist any other data on his artistic career other than this brief response. I have nothing interesting, the proverb says learn the art and put it aside so I did and so it was',\n",
       " \"After gaining a National Diploma in Performing Arts in Acting and studying at the Belfast College of Further and Further Education in 2004 he continued his studies at the Royal Scottish Academy of Music and Drama graduating in 2007 in November 2010 the Belfast Metropolitan College Colin honored with an award for his contribution to the arts in theater Colin made his debut in 2007 as Vernon Piccolo in DBC's Young Vic adaptation Pierre Vernon God Little and as Esteban in the stage adaptation of Pedro Almodóvar's All About My Mother in 2008 appeared as jimmy rosario in thomas babe's young vic production a prayer for my daughter in 2011 played carlos in colombian playwright pedro miguel rozo's royal court theater production our private life in film colin appeared as calum in island an adaptation of the novel by Jane Rogers and in the part of Cathal in the Irish comedy drama Parked Colin appears on TV in two minor roles John Leary in the sketches of the Catherine Tate Show 2007 and Jethro Cane in the midnight episode of the fourth season new series of Doctor Who 2008 since 2008 he has been\",\n",
       " 'Its main characteristic consists of the joint use of pmos-type and nmos-type transistors configured in such a way that in the idle state the power consumption is only that due to the parasitic currents placed on the motherboard, currently most of the circuits integrated circuits that are manufactured use cmos technology this includes microprocessors memories digital signal processors and many other types of digital integrated circuits with considerably low consumption drain d connected to ground vss with value code 1 the value code 1 does not propagate to the source s and therefore At the output of the logic gate, the pmos transistor, on the other hand, is in a conduction state and is the one that propagates the value code 3 vdd at the output. Another important characteristic of the CMOS circuits is that they are regenerative, a degraded signal that addresses a logic gate. cmos will be restored to its initial logic value 0 or 1 as long as it is still within the noise margins that the circuit can tolerate cmos technology was developed by wanlass and sah of fairchild semiconductor in the early 1960s however its introduction',\n",
       " \"it is a concept album dedicated to the bicycle goodbike is the result of a long and in-depth path of artistic investigation involving a musical reading a theater show a novel about the bicycle the recyclists aedicle signed by the singer andrea satta the creation of a festival and of course the exploration of reality and places that revolve around the reality of the bicycle the album is composed of index tracks including six unreleased songs plus an extra tribute divided between the epic of cycling alfonsina and the bike le bal des cols coppi the cyclist's song the exploration and the social commitment we are the corrosive traffic acid the bicycle trumpet the childish dimension of the game come on and love the bicycle my dear miss the album sees the participation among others of militants in frontal assaults in alfonsina and the bike of karisa kahindi the Kenyan singer and actor of journalists Gianni Mura who also signs the text of Le Bal des Cols by Claudio Ferretti Marco Pastonesi La Gazzetta dello Sport Alessandra de Stefano Rai Sport and Maurizio Crosetti La Repubblica and Sergio Staino with some of his cartoons in the booklet of the CD Alfonsina e la bici\",\n",
       " \"unlike the previous titles with the exception of the Nintendo DS version of the game presents five murder cases the protagonist is still Phoenix Wright but it is also possible to impersonate the lawyer Mia Fey and the prosecutor Miles Edgeworth in the tutorial the player will learn about the second trial of the deceased mia fey through the memories of wright at the time an art student at the lupios university and accused due to the death of a colleague enrolled in pharmacology and ex-boyfriend of the protagonist's partner, phoenix's memories are placed temporally about two years before his first trial as a lawyer in this episode phoenix wright will have to defend himself from the accusation of having stolen the sacred urn of the fey family using the pseudonym of mask demasque famous thief of precious treasures however during the trial for theft the murder of the director of the company from which he will come to light ron has been fired phoenix will continue to believe in the innocence of his client and to wonder about the origins of the new prosecutor phoenix will have to reopen the case of maggey byrde the former policewoman unjustly convicted for the murder of a programmer of the blue screen company poisoned with potassium cyanide in the\",\n",
       " \"in 1997 astral weeks was positioned at number 9 in the ranking of the best albums of all time according to the music of the millennium survey conducted by hmv channel 4 the guardian and classic fm was among many the most important album to date in my life stranded 1979 for the legendary rock critic lester bangs the album I listened to the most in my life my favorite record of all time listen to van morrison and writings 1968 2010 for another icon of music journalism like greil marcus for dave marsh there is astral weeks and then there are all the other albums slkelly org and my classic for the director wim wenders almost every human being on this planet should know the greatest album of all time deutschlandradio daybyday press article4044 2012 astral weeks has been defined as the greatest album deified in the history of popular music great rock discography astral weeks was released a year after van morrison's first album blowin your mind thanks to this second album van morrison received great critical acclaim as album of the year for rolling stone and one of the albums of the year for\",\n",
       " 'the dæmon would therefore be in a way the physical manifestation of the soul of a human many characteristics of dæmons agree with certain concepts of psychology or anthropology in other worlds like ours according to the book the dæmons are invisible but nevertheless exist to try to to see it you have to open your mind and it will appear the dæmon of a child is an animal but it does not have a definitive form and changes at will according to the circumstances but at puberty of the child the dæmon takes a definitive form which reflects the personality of the person the dæmon is generally of the opposite sex to that of his human however in certain cases the dæmon is of the same sex as his human which is interpreted by many readers as a sign of the homosexuality of this character philip pullman indicates that he did not have this intention but that it is possible just as it could indicate a gift of double vision he says in an interview it is also never explained at any point in the book how dæmons are born and in what form to touch the dæmon',\n",
       " \"It performs a digital analog conversion of the signal on the chip and in two parallel noise reduction stages on each column of the Exmor R CMOS sensor is a BSI sensor version of Sony CMOS image sensor The Exmor R sensor was announced by Sony on 11 June 2008 and was the world's first mass-produced application of a BSI sensor technology. Sony claims that Exmor R is approximately twice as sensitive as a normal front-illuminated sensor. This BSI sensor is found in several Sony mobile phones and cameras. As well as in Apple's iPhone 4s and 5, the Exmor R sensor allows the smartphone camera to record high-definition movies and still images in low-light areas. Originally, Exmor R technology was limited to small sensors for compact cameras and camcorders. mobile phone cameras but the sony ilce 7rm2 full frame camera introduced on June 10, 2015 also has an exmor r sensor\",\n",
       " 'when he wakes up in front of him a possessed priest or Allen appears and begins to attack him the boy leaves the church but in front of him a group of zombies are attacking the numbers led by black john among them there is peckinpah intent on fighting against the zombies human calls him to take him to the shelter of the church but when the two enter Allen starts a fight against peckinpah who tells human to sit on the altar in the meantime black john and the numbers have managed to enter the church while human continues to crawl towards the altar and Allen strangles peckinpah the video ends with human who manages to sit on the altar eliminating the zombies and the priest but becoming possessed however',\n",
       " 'These bicycles do not use a derailleur, internal gears or other methods to vary the transmission ratio of the bicycle. Single-speed bicycles with free sprocket are mistakenly called fixie or fixed due to their similarity to fixed-gear bicycles, fixed gear or fixed gear. This term is only used applies to bicycles with a fixed gear if there is a free gear the term to use is a single speed bicycle or single speed these types of bicycles sometimes allow having another relationship with a gear on each side of the rear wheel if necessary. the wheel is turned and the sprockets are exchanged, some do not have a free sprocket but are fixed sprockets, both have greater efficiency in pedaling since they do not cross the chain and the path is cleaner. There are three typical configurations for single-wheel bicycles speed that applies to any type of bicycle these are statements from cycling industry representatives and journalists have fueled the perception that major bicycle manufacturers discourage the construction of modern single speed bicycles however the growing popularity of single speed is',\n",
       " \"She writes mainly children's books but also historical books and poetry Weatherford has written several articles attacking what she identifies as stereotypical caricatures of black people in East Asian popular culture, two of the most important being cartoon-oriented children's anime and another targeting the name of a brand of toothpaste in January 2000 Weatherford wrote an editorial for the Alabama newspapers in Pokémon Politically Incorrect She explained how she believed that Pokémon 124 Lippoutou was a negative stereotype of African Americans the character of lippoutou pokemon 124 has decidedly human features unlike most other characters jet black skin pink lips huge gaping eyes blonde mane and full figure cleavage and wavy hips in other words lippoutou looks like an incarnation of drag queen in overweight little black sambo a racist stereotype taken from a children's book long since emptied from libraries in response to controversy lippoutou's game sprites were given a purple color in the American versions of Pokémon Gold and Silver released in late 2000 in 2002 Nintendo\",\n",
       " 'the previous k3 and any reflex camera with cmos sensor to generate the final image is made based on the interpolation of 3 red green and blue images for example the k 3 the final 24mpx image is created from 3 red green and 6mpx blue each, once combined, the final image of 24mpx is obtained. The new Pentax K 3 II system allows, by moving the sensor in 4 directions, the distance of 1 pixel, to take 4 simultaneous captures so that a complete image is obtained of 24mpx of each red, green and blue color channel, in this way you avoid having to perform pixel interpolation and can generate a final image with a great level of detail without color moiré or color artifacts or false colors that sometimes occur in cameras with cmos sensor with bayer pattern the system that all cmos sensors have the camera sensor is a cmos aps c device with an effective resolution of 24 35 megapixels with the prime iii image processor that it shares with the pentax 645z another of its features is',\n",
       " \"regarding the emotion felt filming this new commercial Charlize Theron said it was incredibly fascinating and fantastic I don't think I will be able to have another similar experience in my life for two consecutive years in 2000 and 2001 j adore won the fifi award for best women's perfume of the year, in 2007 it also won the fifi award for best television advertising campaign\",\n",
       " 'when all its inputs are at 0 zero or low its output is at 0 or low while when at least one or both inputs are at 1 or high its output will be at 1 or high in another sense the function The or gate effectively finds the maximum between two binary digits just as the and function finds the minimum. You can clearly see that the output x is only 0 0 logic low level when input a and input b are at 0, in other words the output x is equal to 0 when input a and input b are 0 there are three symbols for the gates or the american ansi or military symbol and the european or rectangular iec symbol as well as the obsolete din symbol for more information see logic gate the or gates They are basic logic gates and as such are available in TTL and CI CMOS logic families. The standard CI CMOS 4000 series is the 4071, which includes four independent two-input OR gates. The traditional TTL version is the 7432. There are many branches of the',\n",
       " 'the fiends include many species of baatezus of tanar ris and yugoloths the devils whose ruling species is called baatezu are loyal evil beings originating from the nine hells of baator they subjugate the weakest and reign tyrannically over their fiefdoms the pit fiends are the most powerful of the baatezus but even the most powerful of them are surpassed by the lords of the nine or archdevils among whom baalzebub mephistopheles and asmodeus unlike the demons the devils are organized in a strict hierarchy like the demons the devils are plotting traitors but while a demon will only keep his word if he finds it in his interest a devil will always keep his word while using it to exploit his bureaucratic and repressive machinations to their maximum and always knowing how to divert the letter of a contract the tanar ri and the baatezu experience a eternal enmity towards each other and clash during the bloody war the most widespread species of fiends are the demons tanar ri a chaotic evil race native to the abyss they are greedy cruel and tyrannical the tanar ri are the dominant species among the',\n",
       " 'At the site of the accident a commemorative plaque was dedicated to him. The bicycle museum in Cesiomaggiore in the province of Belluno was dedicated to him. The Venetian company Wilier, a Trieste-based bicycle manufacturer, has included a single speed bike in its 2012 product range with the name Toni Bevilacqua. tribute to the Venetian pistard for the successes achieved with the colors of the Wilier team between the 40s and 50s',\n",
       " 'These bicycles do not use a derailleur, internal gears or other methods to vary the transmission ratio of the bicycle. Single-speed bicycles with free sprocket are mistakenly called fixie or fixed due to their similarity to fixed-gear bicycles, fixed gear or fixed gear. This term is only used applies to bicycles with a fixed gear if there is a free gear the term to use is a single speed bicycle or single speed these types of bicycles sometimes allow having another relationship with a gear on each side of the rear wheel if necessary. the wheel is turned and the sprockets are exchanged, some do not have a free sprocket but are fixed sprockets, both have greater efficiency in pedaling since they do not cross the chain and the path is cleaner. There are three typical configurations for single-wheel bicycles speed that applies to any type of bicycle these are statements from cycling industry representatives and journalists have fueled the perception that major bicycle manufacturers discourage the construction of modern single speed bicycles however the growing popularity of single speed is',\n",
       " \"in Italy it is distributed by lucky red and was released in cinemas on 10 February 2012 the filming was carried out in various areas in new south wales australia and in london the original title a few best men is a clear parodic reference to the film a few good men from 1992 released in Italy with the title code of honor with jack nicholson the Italian title is a reference to the first film by the Italian comic trio aldo giovanni and giacomo three men and a leg while they are on holiday on the island of tuvalu david locking and mia Ramme falls in love at first sight before the end of the holidays David asks Mia to marry him and the wedding will be done in a few days David returns home to London where his three best friends are waiting for him the sensitive Tom the naive Graham and Luke recently fallen into depression because his girlfriend left him David invites them to his wedding which will be held in the luxurious villa of Senator Jim Ramme, Mia's father in Australia and asks them to behave like mature people and not create problems to create a fantastic stag party for David\",\n",
       " 'the previous k3 and any reflex camera with cmos sensor to generate the final image is made based on the interpolation of 3 red green and blue images for example the k 3 the final 24mpx image is created from 3 red green and 6mpx blue each, once combined, the final image of 24mpx is obtained. The new Pentax K 3 II system allows, by moving the sensor in 4 directions, the distance of 1 pixel, to take 4 simultaneous captures so that a complete image is obtained of 24mpx of each red, green and blue color channel, in this way you avoid having to perform pixel interpolation and can generate a final image with a great level of detail without color moiré or color artifacts or false colors that sometimes occur in cameras with cmos sensor with bayer pattern the system that all cmos sensors have the camera sensor is a cmos aps c device with an effective resolution of 24 35 megapixels with the prime iii image processor that it shares with the pentax 645z another of its features is',\n",
       " \"it is the fifth film in the fast and furious series and follows in chronological order fast furious only original parts with a budget of 125 million dollars the film grossed 626 137 675 after being arrested dominic toretto manages to escape thanks to the help of brian o conner of tego and rico's sister mia brian and mia escape to rio de janeiro where they arrive in the favela and are hosted by dom vince's ex friend vince proposes to brian to steal luxury cars from a train during the theft brian and mia are reunited with dom but they discover that the men with whom they are carrying out the theft are planning something against them after vince and mia have stolen the first two cars dom and brian engage in a shootout against their former partners and assistants in which the latter kill three agents of the goddess Dom exits the train and manages to save Brian but the two, chased by a burning vehicle, fall and dive to save themselves from the bridge into the water only to be captured by their former helpers who turn out to be the men of the most powerful criminal and businessman in Rio de\",\n",
       " 'Seven cyclists took part in the event, including the German August Goedrich, the British Edward Battel who worked as a butler in the English embassy in Athens and five Greeks who, upon arrival at the marathon, had to signal their passage to demonstrate that they had passed through. Aristeid s k nstantinid s was the first to pass. At the halfway point near Marathon his bicycle broke on the way back to Athens and Battel overtook him before the Greek was able to find another bicycle and continue. Both Konstantinidis and Battel fell again before the end of the race but the Briton had worse consequences and he fell back to third place, overtaken by Konstantinidis and Goedrich. Many other cyclists fell in total. Konstantinidis fell three times as did Goedrich who had to wait for a replacement bike.',\n",
       " \"unlike the previous titles with the exception of the Nintendo DS version of the game presents five murder cases the protagonist is still Phoenix Wright but it is also possible to impersonate the lawyer Mia Fey and the prosecutor Miles Edgeworth in the tutorial the player will learn about the second trial of the deceased mia fey through the memories of wright at the time an art student at the lupios university and accused due to the death of a colleague enrolled in pharmacology and ex-boyfriend of the protagonist's partner, phoenix's memories are placed temporally about two years before his first trial as a lawyer in this episode phoenix wright will have to defend himself from the accusation of having stolen the sacred urn of the fey family using the pseudonym of mask demasque famous thief of precious treasures however during the trial for theft the murder of the director of the company from which he will come to light ron has been fired phoenix will continue to believe in the innocence of his client and to wonder about the origins of the new prosecutor phoenix will have to reopen the case of maggey byrde the former policewoman unjustly convicted for the murder of a programmer of the blue screen company poisoned with potassium cyanide in the\",\n",
       " 'Originally called the Decchip 21064 before being renamed in 1994, the 21064 is also known by its codename EV4. It was announced in February 1992 and available in quantities in September 1992. The 21064 was the first commercial implementation of the ISA Alpha and the first microprocessor. commercially available digital was followed by a derivative the alpha 21064a in October 1993 the first alpha processor was a test chip codenamed ev3 this test ic was manufactured using a 1 micron m cmos 3 process of digital the test chip lacked of a floating point unit and only had 1 kb of cache was used to confirm the operation of aggressive design techniques. The test chip along with simulators and emulators was also used to expand the firmware and the various operating systems that the company supported. production IC codenamed ev4 was manufactured using the 0 75 m cmos 4 process dirk meyer and edward mclellan were the micro architects ed designed the logic part while dirk designed the remaining major blocks jim montanaro led the implementation of the circuit',\n",
       " \"during her stay she produced a multimedia production eight songs for a mad king by peter maxwell davies and directed the play by eugène ionesco the lesson she continued her work at the komische oper berlin at the staatsoper stuttgart at the german national theater in weimar she created in 2009 simultaneously der bajazzo by ruggero leoncavallo and turandot by ferruccio busoni her work is praised by the press her numerous creations take place mainly in germany and austria but also in the united states she talks about her general approach i must succeed in making my plausible idea to musicians and singers I was a singer I don't play against the singers but with them I always make sure that they can breathe well I think vocally jean luc clairet comments on the creation the rake s progress in basel in 2018 marie aude roux comments in the newspaper Le Monde on the creation of the magic flute at the Salzburg festival\",\n",
       " 'At the site of the accident a commemorative plaque was dedicated to him. The bicycle museum in Cesiomaggiore in the province of Belluno was dedicated to him. The Venetian company Wilier, a Trieste-based bicycle manufacturer, has included a single speed bike in its 2012 product range with the name Toni Bevilacqua. tribute to the Venetian pistard for the successes achieved with the colors of the Wilier team between the 40s and 50s',\n",
       " 'For this reason, most integrated circuits chose to use one technology or another depending on the design criteria. Bipolar transistors offered high speed, high gain and low output resistance, while CMOS transistors presented high input resistance that translated into gates. simple and low-power logic at the end of the 90s, modern manufacturing techniques began to make dual circuits possible. This technology was quickly adopted in the manufacture of amplifiers and also showed some advantages in digital circuits, although the goal has not yet been reached. high level of integration allowed by cmos technology, which restricts the use of bicmos in logic circuits to low and medium integration scales. Consider as an example of a bicmos circuit a two-stage amplifier, the first with a mos transistor and the second with a bjt. It is clear that the first stage provides a high input impedance and the second a low output resistance but in addition for certain configurations, especially in cascade, it also presents the characteristic of a low capacitance almost as much as in the case of a single bjt, which is',\n",
       " \"during her stay she produced a multimedia production eight songs for a mad king by peter maxwell davies and directed the play by eugène ionesco the lesson she continued her work at the komische oper berlin at the staatsoper stuttgart at the german national theater in weimar she created in 2009 simultaneously der bajazzo by ruggero leoncavallo and turandot by ferruccio busoni her work is praised by the press her numerous creations take place mainly in germany and austria but also in the united states she talks about her general approach i must succeed in making my plausible idea to musicians and singers I was a singer I don't play against the singers but with them I always make sure that they can breathe well I think vocally jean luc clairet comments on the creation the rake s progress in basel in 2018 marie aude roux comments in the newspaper Le Monde on the creation of the magic flute at the Salzburg festival\",\n",
       " \"After gaining a National Diploma in Performing Arts in Acting and studying at the Belfast College of Further and Further Education in 2004 he continued his studies at the Royal Scottish Academy of Music and Drama graduating in 2007 in November 2010 the Belfast Metropolitan College Colin honored with an award for his contribution to the arts in theater Colin made his debut in 2007 as Vernon Piccolo in DBC's Young Vic adaptation Pierre Vernon God Little and as Esteban in the stage adaptation of Pedro Almodóvar's All About My Mother in 2008 appeared as jimmy rosario in thomas babe's young vic production a prayer for my daughter in 2011 played carlos in colombian playwright pedro miguel rozo's royal court theater production our private life in film colin appeared as calum in island an adaptation of the novel by Jane Rogers and in the part of Cathal in the Irish comedy drama Parked Colin appears on TV in two minor roles John Leary in the sketches of the Catherine Tate Show 2007 and Jethro Cane in the midnight episode of the fourth season new series of Doctor Who 2008 since 2008 he has been\",\n",
       " 'He is generally credited with the invention of the pedal bicycle according to the research of his relative James Johnston in the 1890s Macmillan was the first to invent the pedal bicycle Johnston a corn merchant and tricyclist had a firm goal in his own words to prove that to my native country of dumfries belongs the honor of being the birthplace of the invention of the bicycle macmillan supposedly completed the construction of a wooden pedal bicycle in 1839 which included iron rimmed wooden wheels a steerable wheel at the front and a larger wheel at the rear which was connected to the pedals via connecting rods. A Glasgow newspaper reported in 1842 of an accident in which an anonymous gentleman from Dumfries Shire was traveling on an ingenious designed velocipede. knocked down a pedestrian in gorbals and was fined five british shillings johnston identified macmillan as that gentleman a 1939 plaque on the family blacksmith shop in courthill says he built better than he knew however macmillan lived in glasgow and worked at vulcan foundry during the',\n",
       " \"Canon announced it on February 8, 2010, it was available from February 24, 2010 and in the US from the beginning of March it is known as the EOS Kiss X4 in Japan and as the EOS Rebel T2I in North America it continues the line of consumer DSLR cameras and is currently positioned as Canon's next model of the EOS 500D 18 MP CMOS sensor ideal for those who want to create large poster-sized prints or crop images without losing any of the details necessary for the 18MP CMOS EOS 550D Printing The sensor is exceptional in low light and produces images with incredibly low noise Digic 4 Canon Digic 4 works with the CMOS sensor processor to deliver 14-bit image processing for smooth gradations and natural looking colors Digic 4 powers Also advanced noise reduction when shooting at higher ISO speeds More split-second startup times and near-instant image review after low-light High ISO shooting when light levels drop The EOS 550D offers a range of\",\n",
       " 'the previous k3 and any reflex camera with cmos sensor to generate the final image is made based on the interpolation of 3 red green and blue images for example the k 3 the final 24mpx image is created from 3 red green and 6mpx blue each, once combined, the final image of 24mpx is obtained. The new Pentax K 3 II system allows, by moving the sensor in 4 directions, the distance of 1 pixel, to take 4 simultaneous captures so that a complete image is obtained of 24mpx of each red, green and blue color channel, in this way you avoid having to perform pixel interpolation and can generate a final image with a great level of detail without color moiré or color artifacts or false colors that sometimes occur in cameras with cmos sensor with bayer pattern the system that all cmos sensors have the camera sensor is a cmos aps c device with an effective resolution of 24 35 megapixels with the prime iii image processor that it shares with the pentax 645z another of its features is',\n",
       " 'Its main characteristic consists of the joint use of pmos-type and nmos-type transistors configured in such a way that in the idle state the power consumption is only that due to the parasitic currents placed on the motherboard, currently most of the circuits integrated circuits that are manufactured use cmos technology this includes microprocessors memories digital signal processors and many other types of digital integrated circuits with considerably low consumption drain d connected to ground vss with value code 1 the value code 1 does not propagate to the source s and therefore At the output of the logic gate, the pmos transistor, on the other hand, is in a conduction state and is the one that propagates the value code 3 vdd at the output. Another important characteristic of the CMOS circuits is that they are regenerative, a degraded signal that addresses a logic gate. cmos will be restored to its initial logic value 0 or 1 as long as it is still within the noise margins that the circuit can tolerate cmos technology was developed by wanlass and sah of fairchild semiconductor in the early 1960s however its introduction',\n",
       " 'then she participates in a fatal 4 way which includes alicia fox wesley holiday and rosa mendes but she loses and is pinned by alicia fox on 8 February she wins against wesley holiday for the queen of fcw tournament but however a week later she loses against alicia fox and is eliminated from the tournament on May 10th wins a tag match with Angela against Alicia Fox and Katie Lea Burchill on August 16th loses a 3 on 2 handicap match paired with Angela against Rosa Mendes Alicia Fox and Candy Girl on September 13th takes part in a fatal 4 way which includes serena mancini alicia fox and april lee but fails to win on october 25th loses to mia mancini in a match with no titles on the line on march 14th loses again to mia mancini on june 10th 2008 in ecw taryn makes her debut under the name tiffany as assistant general manager theodore long tiffany entered the divas halloween costume contest on october 26 on cyber sunday dressing up as a nun tiffany made her in ring debut in a 16 diva tag team match in the 800 episode of raw teaming up with mickie',\n",
       " 'Originally called the Decchip 21064 before being renamed in 1994, the 21064 is also known by its code name EV4. It was announced in February 1992 and available in quantities in September 1992. The 21064 was the first commercial implementation of the ISA Alpha and the first microprocessor. commercially available digital was followed by a derivative the alpha 21064a in October 1993 the first alpha processor was a test chip codenamed ev3 this test ic was manufactured using a 1 micron m cmos 3 process of digital the test chip lacked of a floating point unit and only had 1 kb of cache was used to confirm the operation of aggressive design techniques. The test chip along with simulators and emulators was also used to expand the firmware and the various operating systems that the company supported. production IC codenamed ev4 was manufactured using the 0 75 m cmos 4 process dirk meyer and edward mclellan were the micro architects ed designed the logic part while dirk designed the remaining major blocks jim montanaro led the implementation of the circuit',\n",
       " 'when all its inputs are at 0 zero or low its output is at 0 or low while when at least one or both inputs are at 1 or high its output will be at 1 or high in another sense the function The or gate effectively finds the maximum between two binary digits just as the and function finds the minimum. You can clearly see that the output x is only 0 0 logic low level when input a and input b are at 0, in other words the output x is equal to 0 when input a and input b are 0 there are three symbols for the gates or the american ansi or military symbol and the european or rectangular iec symbol as well as the obsolete din symbol for more information see logic gate the or gates They are basic logic gates and as such are available in TTL and CI CMOS logic families. The standard CI CMOS 4000 series is the 4071, which includes four independent two-input OR gates. The traditional TTL version is the 7432. There are many branches of the',\n",
       " \"while a courier worker explains how he was attacked by a homeless man the demon angel notices trevor lockley the inspector's father who takes a package from the crime scene suspecting something angel follows the courier worker who goes to trevor's house who gives him the package angel confronts trevor but he refuses to tell him anything during this time wesley discovers that the demon that angel killed and who belongs to a peaceful race was under the influence of a drug when he attacked the metro trevor learns from kate that angel is a private detective and two men who work for a demon drug dealer will find him later to make sure he hasn't said anything compromising angel returns at that moment but cannot convince trevor to do so let in and the two men who turn out to be vampires kill kate's father she traces the vampires' trail to their lair and angel kills the demon who ran the network kate leaves telling angel that he can't\",\n",
       " 'regularly republished until 1977 it was adapted for the theater then on the big screen in 1938 my uncle and my priest is the first work of alice cherbonnel a young girl from the provinces she waited six years before taking the novel to a publisher pushed by friends the novel is published under the male pseudonym she had chosen jean de la brete when she was asked by jean de la brete how success was announced for her she replied that she did not know at all she lived in seclusion with her mother receiving neither Argus nor press mail and her book passed from hand to hand the editions multiplied extract from the introduction to the novel written by the author Lucie Félix Faure Goyau 1866 1920 daughter of the President of the Republic Félix Faure in his introduction to the novel Lucie Félix Faure Goyau writes this pretty novel is a flower of France a reflection of our sun shines in the radiance of its fine gaiety in fact my uncle and my priest do not fit into the category of rose water novels this',\n",
       " \"After gaining a National Diploma in Performing Arts in Acting and studying at the Belfast College of Further and Further Education in 2004 he continued his studies at the Royal Scottish Academy of Music and Drama graduating in 2007 in November 2010 the Belfast Metropolitan College Colin honored with an award for his contribution to the arts in theater Colin made his debut in 2007 as Vernon Piccolo in DBC's Young Vic adaptation Pierre Vernon God Little and as Esteban in the stage adaptation of Pedro Almodóvar's All About My Mother in 2008 appeared as jimmy rosario in thomas babe's young vic production a prayer for my daughter in 2011 played carlos in colombian playwright pedro miguel rozo's royal court theater production our private life in film colin appeared as calum in island an adaptation of the novel by Jane Rogers and in the part of Cathal in the Irish comedy drama Parked Colin appears on TV in two minor roles John Leary in the sketches of the Catherine Tate Show 2007 and Jethro Cane in the midnight episode of the fourth season new series of Doctor Who 2008 since 2008 he has been\",\n",
       " \"unlike the previous titles with the exception of the Nintendo DS version of the game presents five murder cases the protagonist is still Phoenix Wright but it is also possible to impersonate the lawyer Mia Fey and the prosecutor Miles Edgeworth in the tutorial the player will learn about the second trial of the deceased mia fey through the memories of wright at the time an art student at the lupios university and accused due to the death of a colleague enrolled in pharmacology and ex-boyfriend of the protagonist's partner, phoenix's memories are placed temporally about two years before his first trial as a lawyer in this episode phoenix wright will have to defend himself from the accusation of having stolen the sacred urn of the fey family using the pseudonym of mask demasque famous thief of precious treasures however during the trial for theft the murder of the director of the company from which he will come to light ron has been fired phoenix will continue to believe in the innocence of his client and to wonder about the origins of the new prosecutor phoenix will have to reopen the case of maggey byrde the former policewoman unjustly convicted for the murder of a programmer of the blue screen company poisoned with potassium cyanide in the\",\n",
       " \"Canon announced it on February 8, 2010, it was available from February 24, 2010 and in the US from the beginning of March it is known as the EOS Kiss X4 in Japan and as the EOS Rebel T2I in North America it continues the line of consumer DSLR cameras and is currently positioned as Canon's next model of the EOS 500D 18 MP CMOS sensor ideal for those who want to create large poster-sized prints or crop images without losing any of the details necessary for the 18MP CMOS EOS 550D Printing The sensor is exceptional in low light and produces images with incredibly low noise Digic 4 Canon Digic 4 works with the CMOS sensor processor to deliver 14-bit image processing for smooth gradations and natural looking colors Digic 4 powers Also advanced noise reduction when shooting at higher ISO speeds More split-second startup times and near-instant image review after low-light High ISO shooting when light levels drop The EOS 550D offers a range of\",\n",
       " 'The photograph or video does not correspond to an entire scene in one instant of time, but rather the shutter quickly scans it vertically or horizontally. In other words, not all parts of the scene are recorded at exactly the same moment, but the final image is displayed. as if it represented a single instant of time this produces distortions in objects with rapid movements or with certain light effects this phenomenon does not happen in other devices such as the global shutter where the entire image is captured at the same instant the rolling shutter can be mechanical or electronic The advantage of this method is that the image sensor can continue capturing photons during the acquisition process, thus increasing the sensitivity of the image. This capture method occurs in photographic and video cameras that use CMOS sensors and is more evident in conditions extremes of motion or light there are some cases of cmos that use the global shutter but in the market the majority contain the rolling shutter one of the alternatives to the cmos sensors is the ccd or charge coupled device, generally more sensitive and more expensive cameras.',\n",
       " \"It was a laptop comparable in capacity to the desktops of the time. The CPU was a CMOS version of the 8086, compatible with the 8088 used by the IBM PC, except that it worked slightly slower at 4.0 MHz instead of the standard 4.77 MHz, unlike the IBM PC. portable the dg 1 laptop could not use pc of the 8250 series used in the ibm pc as a result the software written for the pc's serial ports would not run correctly this required the use of software written using the slower and more inflexible bios 014h interrupt call or using software written exclusively for In dg 1, the 52kb video memory was shared by the ram, which left less free memory on the device. In this way, if there was an installed 256kb ram, only 204kb were available for the operating system and the programs.\",\n",
       " \"It was a laptop comparable in capacity to the desktops of the time. The CPU was a CMOS version of the 8086, compatible with the 8088 used by the IBM PC, except that it worked slightly slower at 4.0 MHz instead of the standard 4.77 MHz, unlike the IBM PC. portable the dg 1 laptop could not use pc of the 8250 series used in the ibm pc as a result the software written for the pc's serial ports would not run correctly this required the use of software written using the slower and more inflexible bios 014h interrupt call or using software written exclusively for In dg 1, the 52kb video memory was shared by the ram, which left less free memory on the device. In this way, if there was an installed 256kb ram, only 204kb were available for the operating system and the programs.\",\n",
       " \"37 is a melody by Ernest Chausson written in December 1898, with his poem of love and the sea, it is part of the musician's two major orchestral vocal works, it is also his last complete work, he having left his string quartet op 35 unfinished it is dedicated to jeanne raunay who created it the text is the nocturnal poem by charles cros taken from his collection le casket de sandal it describes the agonies of an abandoned woman there is a version with orchestra and a version for voice string quartet and piano its performance lasts a little less than ten minutes shivering woods starry sky my beloved has gone taking my heart desolate winds that your plaintive rumors that your songs charming nightingales go to tell him that I die the first evening that he came here my soul was at his mercy of pride I no longer had any worries my looks were full of confessions he took me in his nervous arms and kissed me close to the hair I had a great shudder and then I no longer know how he is\"]"
      ]
     },
     "execution_count": 20,
     "metadata": {},
     "output_type": "execute_result"
    }
   ],
   "source": [
    "documents_translated"
   ]
  },
  {
   "cell_type": "markdown",
   "metadata": {},
   "source": [
    "## 5. Find domain-specific keywords\n",
    "\n",
    "Find the most frequent words in the documents, exlude the 1000 most used words in the English language\n"
   ]
  },
  {
   "cell_type": "markdown",
   "metadata": {},
   "source": [
    "## 6. Concat the keywords with the original query\n",
    "\n",
    "Concatenate the keywords with the original query and search for documents in the original language\n"
   ]
  },
  {
   "cell_type": "markdown",
   "metadata": {},
   "source": [
    "## 7. Evaluation\n",
    "\n",
    "Evaluate the results of the search\n",
    "\n",
    "Reference:\n",
    "1. GitHub: [pyterrier/examples/notebooks\n",
    "/retrieval_and_evaluation.ipynb](https://github.com/terrier-org/pyterrier/blob/master/examples/notebooks/retrieval_and_evaluation.ipynb)\n",
    "1. GitHub: [pyterrier/examples/notebooks\n",
    "/experiment.ipynb](https://github.com/terrier-org/pyterrier/blob/master/examples/notebooks/experiment.ipynb)"
   ]
  },
  {
   "cell_type": "markdown",
   "metadata": {},
   "source": [
    "### 7.1 Precision / Recall\n",
    "\n",
    "See how many of the returned documents are relevant. Did the number of relevant documents increase?\n"
   ]
  },
  {
   "cell_type": "markdown",
   "metadata": {},
   "source": [
    "### 7.2 Keyword diversification\n",
    "\n",
    "Did the number of unique keywords increase compared to naive domain-specific keyword identification?\n"
   ]
  }
 ],
 "metadata": {
  "kernelspec": {
   "display_name": ".venv",
   "language": "python",
   "name": "python3"
  },
  "language_info": {
   "codemirror_mode": {
    "name": "ipython",
    "version": 3
   },
   "file_extension": ".py",
   "mimetype": "text/x-python",
   "name": "python",
   "nbconvert_exporter": "python",
   "pygments_lexer": "ipython3",
   "version": "3.10.11"
  }
 },
 "nbformat": 4,
 "nbformat_minor": 2
}
